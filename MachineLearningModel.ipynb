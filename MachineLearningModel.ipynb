{
 "cells": [
  {
   "cell_type": "code",
   "execution_count": 1,
   "id": "ed486d1c",
   "metadata": {},
   "outputs": [],
   "source": [
    "import warnings\n",
    "warnings.filterwarnings('ignore')"
   ]
  },
  {
   "cell_type": "code",
   "execution_count": 2,
   "id": "0a75cd34",
   "metadata": {},
   "outputs": [],
   "source": [
    "import numpy as np\n",
    "import pandas as pd\n",
    "from pathlib import Path\n",
    "from collections import Counter"
   ]
  },
  {
   "cell_type": "markdown",
   "id": "3bd955cc",
   "metadata": {},
   "source": [
    "## Import the cleansed dataset and use Feature selection to identify dummy/target values"
   ]
  },
  {
   "cell_type": "code",
   "execution_count": 3,
   "id": "99e1e52b",
   "metadata": {},
   "outputs": [
    {
     "data": {
      "text/html": [
       "<div>\n",
       "<style scoped>\n",
       "    .dataframe tbody tr th:only-of-type {\n",
       "        vertical-align: middle;\n",
       "    }\n",
       "\n",
       "    .dataframe tbody tr th {\n",
       "        vertical-align: top;\n",
       "    }\n",
       "\n",
       "    .dataframe thead th {\n",
       "        text-align: right;\n",
       "    }\n",
       "</style>\n",
       "<table border=\"1\" class=\"dataframe\">\n",
       "  <thead>\n",
       "    <tr style=\"text-align: right;\">\n",
       "      <th></th>\n",
       "      <th>release_year</th>\n",
       "      <th>title</th>\n",
       "      <th>genres</th>\n",
       "      <th>nominated</th>\n",
       "      <th>budget_ranges</th>\n",
       "      <th>revenue_ranges</th>\n",
       "      <th>runtime_ranges</th>\n",
       "      <th>winner</th>\n",
       "    </tr>\n",
       "  </thead>\n",
       "  <tbody>\n",
       "    <tr>\n",
       "      <th>0</th>\n",
       "      <td>2003</td>\n",
       "      <td>Underworld</td>\n",
       "      <td>Fantasy</td>\n",
       "      <td>1</td>\n",
       "      <td>Medium</td>\n",
       "      <td>Medium</td>\n",
       "      <td>High</td>\n",
       "      <td>1</td>\n",
       "    </tr>\n",
       "    <tr>\n",
       "      <th>1</th>\n",
       "      <td>2000</td>\n",
       "      <td>The Patriot</td>\n",
       "      <td>Drama</td>\n",
       "      <td>1</td>\n",
       "      <td>High</td>\n",
       "      <td>High</td>\n",
       "      <td>High</td>\n",
       "      <td>0</td>\n",
       "    </tr>\n",
       "    <tr>\n",
       "      <th>2</th>\n",
       "      <td>1929</td>\n",
       "      <td>The Broadway Melody</td>\n",
       "      <td>Drama</td>\n",
       "      <td>1</td>\n",
       "      <td>Low</td>\n",
       "      <td>Low</td>\n",
       "      <td>Medium</td>\n",
       "      <td>0</td>\n",
       "    </tr>\n",
       "    <tr>\n",
       "      <th>3</th>\n",
       "      <td>2000</td>\n",
       "      <td>The Patriot</td>\n",
       "      <td>Drama</td>\n",
       "      <td>1</td>\n",
       "      <td>High</td>\n",
       "      <td>High</td>\n",
       "      <td>High</td>\n",
       "      <td>0</td>\n",
       "    </tr>\n",
       "    <tr>\n",
       "      <th>4</th>\n",
       "      <td>1929</td>\n",
       "      <td>The Broadway Melody</td>\n",
       "      <td>Drama</td>\n",
       "      <td>1</td>\n",
       "      <td>Low</td>\n",
       "      <td>Low</td>\n",
       "      <td>Medium</td>\n",
       "      <td>0</td>\n",
       "    </tr>\n",
       "    <tr>\n",
       "      <th>...</th>\n",
       "      <td>...</td>\n",
       "      <td>...</td>\n",
       "      <td>...</td>\n",
       "      <td>...</td>\n",
       "      <td>...</td>\n",
       "      <td>...</td>\n",
       "      <td>...</td>\n",
       "      <td>...</td>\n",
       "    </tr>\n",
       "    <tr>\n",
       "      <th>4259</th>\n",
       "      <td>1982</td>\n",
       "      <td>Parasite</td>\n",
       "      <td>Horror</td>\n",
       "      <td>1</td>\n",
       "      <td>Low</td>\n",
       "      <td>Low</td>\n",
       "      <td>Low</td>\n",
       "      <td>1</td>\n",
       "    </tr>\n",
       "    <tr>\n",
       "      <th>4260</th>\n",
       "      <td>1982</td>\n",
       "      <td>Parasite</td>\n",
       "      <td>Horror</td>\n",
       "      <td>1</td>\n",
       "      <td>Low</td>\n",
       "      <td>Low</td>\n",
       "      <td>Low</td>\n",
       "      <td>1</td>\n",
       "    </tr>\n",
       "    <tr>\n",
       "      <th>4261</th>\n",
       "      <td>1982</td>\n",
       "      <td>Parasite</td>\n",
       "      <td>Horror</td>\n",
       "      <td>1</td>\n",
       "      <td>Low</td>\n",
       "      <td>Low</td>\n",
       "      <td>Low</td>\n",
       "      <td>0</td>\n",
       "    </tr>\n",
       "    <tr>\n",
       "      <th>4262</th>\n",
       "      <td>1994</td>\n",
       "      <td>The Lion King</td>\n",
       "      <td>Family</td>\n",
       "      <td>1</td>\n",
       "      <td>High</td>\n",
       "      <td>High</td>\n",
       "      <td>Low</td>\n",
       "      <td>0</td>\n",
       "    </tr>\n",
       "    <tr>\n",
       "      <th>4263</th>\n",
       "      <td>1982</td>\n",
       "      <td>Parasite</td>\n",
       "      <td>Horror</td>\n",
       "      <td>1</td>\n",
       "      <td>Low</td>\n",
       "      <td>Low</td>\n",
       "      <td>Low</td>\n",
       "      <td>1</td>\n",
       "    </tr>\n",
       "  </tbody>\n",
       "</table>\n",
       "<p>4264 rows × 8 columns</p>\n",
       "</div>"
      ],
      "text/plain": [
       "      release_year                title   genres  nominated budget_ranges  \\\n",
       "0             2003           Underworld  Fantasy          1        Medium   \n",
       "1             2000          The Patriot    Drama          1          High   \n",
       "2             1929  The Broadway Melody    Drama          1           Low   \n",
       "3             2000          The Patriot    Drama          1          High   \n",
       "4             1929  The Broadway Melody    Drama          1           Low   \n",
       "...            ...                  ...      ...        ...           ...   \n",
       "4259          1982             Parasite   Horror          1           Low   \n",
       "4260          1982             Parasite   Horror          1           Low   \n",
       "4261          1982             Parasite   Horror          1           Low   \n",
       "4262          1994        The Lion King   Family          1          High   \n",
       "4263          1982             Parasite   Horror          1           Low   \n",
       "\n",
       "     revenue_ranges runtime_ranges  winner  \n",
       "0            Medium           High       1  \n",
       "1              High           High       0  \n",
       "2               Low         Medium       0  \n",
       "3              High           High       0  \n",
       "4               Low         Medium       0  \n",
       "...             ...            ...     ...  \n",
       "4259            Low            Low       1  \n",
       "4260            Low            Low       1  \n",
       "4261            Low            Low       0  \n",
       "4262           High            Low       0  \n",
       "4263            Low            Low       1  \n",
       "\n",
       "[4264 rows x 8 columns]"
      ]
     },
     "execution_count": 3,
     "metadata": {},
     "output_type": "execute_result"
    }
   ],
   "source": [
    "## Read cleansed/combined table\n",
    "\n",
    "file_path = \"Resources/Combination_Table.csv\"\n",
    "oscars_df = pd.read_csv(file_path)\n",
    "oscars_df"
   ]
  },
  {
   "cell_type": "code",
   "execution_count": 4,
   "id": "ee92b36b",
   "metadata": {},
   "outputs": [
    {
     "data": {
      "text/plain": [
       "release_year       int64\n",
       "title             object\n",
       "genres            object\n",
       "nominated          int64\n",
       "budget_ranges     object\n",
       "revenue_ranges    object\n",
       "runtime_ranges    object\n",
       "winner             int64\n",
       "dtype: object"
      ]
     },
     "execution_count": 4,
     "metadata": {},
     "output_type": "execute_result"
    }
   ],
   "source": [
    "oscars_df.dtypes"
   ]
  },
  {
   "cell_type": "code",
   "execution_count": 5,
   "id": "a0ffaafe",
   "metadata": {},
   "outputs": [],
   "source": [
    "# drop unecessary columns\n",
    "X = pd.get_dummies(oscars_df, columns=[\"genres\",\"budget_ranges\",\"revenue_ranges\",\"runtime_ranges\"]).drop([\"release_year\",\"title\",\"winner\",\"nominated\"], axis=1)\n",
    "\n",
    "## Using the binary outcome \"nominated\" to create our target value\n",
    "y = oscars_df[\"nominated\"]\n"
   ]
  },
  {
   "cell_type": "code",
   "execution_count": 6,
   "id": "6d44df3f",
   "metadata": {},
   "outputs": [
    {
     "data": {
      "text/html": [
       "<div>\n",
       "<style scoped>\n",
       "    .dataframe tbody tr th:only-of-type {\n",
       "        vertical-align: middle;\n",
       "    }\n",
       "\n",
       "    .dataframe tbody tr th {\n",
       "        vertical-align: top;\n",
       "    }\n",
       "\n",
       "    .dataframe thead th {\n",
       "        text-align: right;\n",
       "    }\n",
       "</style>\n",
       "<table border=\"1\" class=\"dataframe\">\n",
       "  <thead>\n",
       "    <tr style=\"text-align: right;\">\n",
       "      <th></th>\n",
       "      <th>release_year</th>\n",
       "      <th>title</th>\n",
       "      <th>genres</th>\n",
       "      <th>nominated</th>\n",
       "      <th>budget_ranges</th>\n",
       "      <th>revenue_ranges</th>\n",
       "      <th>runtime_ranges</th>\n",
       "      <th>winner</th>\n",
       "    </tr>\n",
       "  </thead>\n",
       "  <tbody>\n",
       "    <tr>\n",
       "      <th>0</th>\n",
       "      <td>2003</td>\n",
       "      <td>Underworld</td>\n",
       "      <td>Fantasy</td>\n",
       "      <td>1</td>\n",
       "      <td>Medium</td>\n",
       "      <td>Medium</td>\n",
       "      <td>High</td>\n",
       "      <td>1</td>\n",
       "    </tr>\n",
       "    <tr>\n",
       "      <th>1</th>\n",
       "      <td>2000</td>\n",
       "      <td>The Patriot</td>\n",
       "      <td>Drama</td>\n",
       "      <td>1</td>\n",
       "      <td>High</td>\n",
       "      <td>High</td>\n",
       "      <td>High</td>\n",
       "      <td>0</td>\n",
       "    </tr>\n",
       "    <tr>\n",
       "      <th>2</th>\n",
       "      <td>1929</td>\n",
       "      <td>The Broadway Melody</td>\n",
       "      <td>Drama</td>\n",
       "      <td>1</td>\n",
       "      <td>Low</td>\n",
       "      <td>Low</td>\n",
       "      <td>Medium</td>\n",
       "      <td>0</td>\n",
       "    </tr>\n",
       "    <tr>\n",
       "      <th>3</th>\n",
       "      <td>2000</td>\n",
       "      <td>The Patriot</td>\n",
       "      <td>Drama</td>\n",
       "      <td>1</td>\n",
       "      <td>High</td>\n",
       "      <td>High</td>\n",
       "      <td>High</td>\n",
       "      <td>0</td>\n",
       "    </tr>\n",
       "    <tr>\n",
       "      <th>4</th>\n",
       "      <td>1929</td>\n",
       "      <td>The Broadway Melody</td>\n",
       "      <td>Drama</td>\n",
       "      <td>1</td>\n",
       "      <td>Low</td>\n",
       "      <td>Low</td>\n",
       "      <td>Medium</td>\n",
       "      <td>0</td>\n",
       "    </tr>\n",
       "    <tr>\n",
       "      <th>...</th>\n",
       "      <td>...</td>\n",
       "      <td>...</td>\n",
       "      <td>...</td>\n",
       "      <td>...</td>\n",
       "      <td>...</td>\n",
       "      <td>...</td>\n",
       "      <td>...</td>\n",
       "      <td>...</td>\n",
       "    </tr>\n",
       "    <tr>\n",
       "      <th>4259</th>\n",
       "      <td>1982</td>\n",
       "      <td>Parasite</td>\n",
       "      <td>Horror</td>\n",
       "      <td>1</td>\n",
       "      <td>Low</td>\n",
       "      <td>Low</td>\n",
       "      <td>Low</td>\n",
       "      <td>1</td>\n",
       "    </tr>\n",
       "    <tr>\n",
       "      <th>4260</th>\n",
       "      <td>1982</td>\n",
       "      <td>Parasite</td>\n",
       "      <td>Horror</td>\n",
       "      <td>1</td>\n",
       "      <td>Low</td>\n",
       "      <td>Low</td>\n",
       "      <td>Low</td>\n",
       "      <td>1</td>\n",
       "    </tr>\n",
       "    <tr>\n",
       "      <th>4261</th>\n",
       "      <td>1982</td>\n",
       "      <td>Parasite</td>\n",
       "      <td>Horror</td>\n",
       "      <td>1</td>\n",
       "      <td>Low</td>\n",
       "      <td>Low</td>\n",
       "      <td>Low</td>\n",
       "      <td>0</td>\n",
       "    </tr>\n",
       "    <tr>\n",
       "      <th>4262</th>\n",
       "      <td>1994</td>\n",
       "      <td>The Lion King</td>\n",
       "      <td>Family</td>\n",
       "      <td>1</td>\n",
       "      <td>High</td>\n",
       "      <td>High</td>\n",
       "      <td>Low</td>\n",
       "      <td>0</td>\n",
       "    </tr>\n",
       "    <tr>\n",
       "      <th>4263</th>\n",
       "      <td>1982</td>\n",
       "      <td>Parasite</td>\n",
       "      <td>Horror</td>\n",
       "      <td>1</td>\n",
       "      <td>Low</td>\n",
       "      <td>Low</td>\n",
       "      <td>Low</td>\n",
       "      <td>1</td>\n",
       "    </tr>\n",
       "  </tbody>\n",
       "</table>\n",
       "<p>4264 rows × 8 columns</p>\n",
       "</div>"
      ],
      "text/plain": [
       "      release_year                title   genres  nominated budget_ranges  \\\n",
       "0             2003           Underworld  Fantasy          1        Medium   \n",
       "1             2000          The Patriot    Drama          1          High   \n",
       "2             1929  The Broadway Melody    Drama          1           Low   \n",
       "3             2000          The Patriot    Drama          1          High   \n",
       "4             1929  The Broadway Melody    Drama          1           Low   \n",
       "...            ...                  ...      ...        ...           ...   \n",
       "4259          1982             Parasite   Horror          1           Low   \n",
       "4260          1982             Parasite   Horror          1           Low   \n",
       "4261          1982             Parasite   Horror          1           Low   \n",
       "4262          1994        The Lion King   Family          1          High   \n",
       "4263          1982             Parasite   Horror          1           Low   \n",
       "\n",
       "     revenue_ranges runtime_ranges  winner  \n",
       "0            Medium           High       1  \n",
       "1              High           High       0  \n",
       "2               Low         Medium       0  \n",
       "3              High           High       0  \n",
       "4               Low         Medium       0  \n",
       "...             ...            ...     ...  \n",
       "4259            Low            Low       1  \n",
       "4260            Low            Low       1  \n",
       "4261            Low            Low       0  \n",
       "4262           High            Low       0  \n",
       "4263            Low            Low       1  \n",
       "\n",
       "[4264 rows x 8 columns]"
      ]
     },
     "execution_count": 6,
     "metadata": {},
     "output_type": "execute_result"
    }
   ],
   "source": [
    "oscars_df"
   ]
  },
  {
   "cell_type": "code",
   "execution_count": 7,
   "id": "0af09c82",
   "metadata": {},
   "outputs": [
    {
     "data": {
      "text/plain": [
       "1    4147\n",
       "0     117\n",
       "Name: nominated, dtype: int64"
      ]
     },
     "execution_count": 7,
     "metadata": {},
     "output_type": "execute_result"
    }
   ],
   "source": [
    "# Check the balance of our target values\n",
    "y.value_counts()"
   ]
  },
  {
   "cell_type": "markdown",
   "id": "254d2eae",
   "metadata": {},
   "source": [
    "## Split training/test data using the train_test_split model from sklearn"
   ]
  },
  {
   "cell_type": "code",
   "execution_count": 8,
   "id": "795b80f5",
   "metadata": {},
   "outputs": [],
   "source": [
    "from sklearn.model_selection import train_test_split\n",
    "X_train, X_test, y_train, y_test = train_test_split(X, y, random_state=1, stratify=y)"
   ]
  },
  {
   "cell_type": "markdown",
   "id": "d230ba37",
   "metadata": {},
   "source": [
    "## Naive RandomOverSampler Model"
   ]
  },
  {
   "cell_type": "code",
   "execution_count": 9,
   "id": "0dcc32cc",
   "metadata": {},
   "outputs": [
    {
     "data": {
      "text/plain": [
       "Counter({1: 3110, 0: 3110})"
      ]
     },
     "execution_count": 9,
     "metadata": {},
     "output_type": "execute_result"
    }
   ],
   "source": [
    "# Resample the training data with the RandomOversampler\n",
    "from imblearn.over_sampling import RandomOverSampler\n",
    "\n",
    "ros = RandomOverSampler(random_state=1)\n",
    "X_resampled, y_resampled = ros.fit_resample(X_train, y_train)\n",
    "Counter(y_resampled)"
   ]
  },
  {
   "cell_type": "code",
   "execution_count": 10,
   "id": "3956b487",
   "metadata": {},
   "outputs": [
    {
     "data": {
      "text/plain": [
       "LogisticRegression(random_state=1)"
      ]
     },
     "execution_count": 10,
     "metadata": {},
     "output_type": "execute_result"
    }
   ],
   "source": [
    "# Train the Logistic Regression model using the resampled data\n",
    "from sklearn.linear_model import LogisticRegression\n",
    "\n",
    "model = LogisticRegression(solver='lbfgs', random_state=1)\n",
    "model.fit(X_resampled, y_resampled)"
   ]
  },
  {
   "cell_type": "code",
   "execution_count": 11,
   "id": "8de4de47",
   "metadata": {},
   "outputs": [],
   "source": [
    "# Calculated the balanced accuracy score\n",
    "from sklearn.metrics import balanced_accuracy_score\n",
    "\n",
    "y_pred = model.predict(X_test)\n",
    "balanced_accuracy_score(y_test, y_pred)\n",
    "\n",
    "## Initialize Balance Accuracy Score to store in list when aggregating summaries\n",
    "BA_Score = []\n",
    "BA_Score.append(balanced_accuracy_score(y_test, y_pred))"
   ]
  },
  {
   "cell_type": "code",
   "execution_count": 12,
   "id": "3c60b7e4",
   "metadata": {},
   "outputs": [
    {
     "data": {
      "text/plain": [
       "array([[ 18,  11],\n",
       "       [290, 747]], dtype=int64)"
      ]
     },
     "execution_count": 12,
     "metadata": {},
     "output_type": "execute_result"
    }
   ],
   "source": [
    "# Display the confusion matrix\n",
    "from sklearn.metrics import confusion_matrix\n",
    "\n",
    "confusion_matrix(y_test, y_pred)"
   ]
  },
  {
   "cell_type": "code",
   "execution_count": 13,
   "id": "7c33e755",
   "metadata": {},
   "outputs": [],
   "source": [
    "## Initialize the confusion matrix to store in list when aggregating\n",
    "cm_list=[]\n",
    "cm_list.append(confusion_matrix(y_test, y_pred))"
   ]
  },
  {
   "cell_type": "code",
   "execution_count": 14,
   "id": "4845d675",
   "metadata": {},
   "outputs": [
    {
     "name": "stdout",
     "output_type": "stream",
     "text": [
      "                   pre       rec       spe        f1       geo       iba       sup\n",
      "\n",
      "          0       0.06      0.62      0.72      0.11      0.67      0.44        29\n",
      "          1       0.99      0.72      0.62      0.83      0.67      0.45      1037\n",
      "\n",
      "avg / total       0.96      0.72      0.62      0.81      0.67      0.45      1066\n",
      "\n"
     ]
    }
   ],
   "source": [
    "## Print imbalanced classification report\n",
    "from imblearn.metrics import classification_report_imbalanced\n",
    "print(classification_report_imbalanced(y_test, y_pred))"
   ]
  },
  {
   "cell_type": "code",
   "execution_count": 15,
   "id": "86998200",
   "metadata": {},
   "outputs": [
    {
     "data": {
      "text/html": [
       "<div>\n",
       "<style scoped>\n",
       "    .dataframe tbody tr th:only-of-type {\n",
       "        vertical-align: middle;\n",
       "    }\n",
       "\n",
       "    .dataframe tbody tr th {\n",
       "        vertical-align: top;\n",
       "    }\n",
       "\n",
       "    .dataframe thead th {\n",
       "        text-align: right;\n",
       "    }\n",
       "</style>\n",
       "<table border=\"1\" class=\"dataframe\">\n",
       "  <thead>\n",
       "    <tr style=\"text-align: right;\">\n",
       "      <th></th>\n",
       "      <th>pre</th>\n",
       "      <th>rec</th>\n",
       "      <th>spe</th>\n",
       "      <th>f1</th>\n",
       "      <th>geo</th>\n",
       "      <th>iba</th>\n",
       "      <th>sup</th>\n",
       "    </tr>\n",
       "  </thead>\n",
       "  <tbody>\n",
       "  </tbody>\n",
       "</table>\n",
       "</div>"
      ],
      "text/plain": [
       "Empty DataFrame\n",
       "Columns: [pre, rec, spe, f1, geo, iba, sup]\n",
       "Index: []"
      ]
     },
     "execution_count": 15,
     "metadata": {},
     "output_type": "execute_result"
    }
   ],
   "source": [
    "## Establish summary dataframe\n",
    "summary_df = pd.DataFrame(columns=['pre', 'rec', 'spe', 'f1', 'geo', 'iba', 'sup'])\n",
    "summary_df"
   ]
  },
  {
   "cell_type": "code",
   "execution_count": 16,
   "id": "c15361e3",
   "metadata": {},
   "outputs": [
    {
     "data": {
      "text/html": [
       "<div>\n",
       "<style scoped>\n",
       "    .dataframe tbody tr th:only-of-type {\n",
       "        vertical-align: middle;\n",
       "    }\n",
       "\n",
       "    .dataframe tbody tr th {\n",
       "        vertical-align: top;\n",
       "    }\n",
       "\n",
       "    .dataframe thead th {\n",
       "        text-align: right;\n",
       "    }\n",
       "</style>\n",
       "<table border=\"1\" class=\"dataframe\">\n",
       "  <thead>\n",
       "    <tr style=\"text-align: right;\">\n",
       "      <th></th>\n",
       "      <th>pre</th>\n",
       "      <th>rec</th>\n",
       "      <th>spe</th>\n",
       "      <th>f1</th>\n",
       "      <th>geo</th>\n",
       "      <th>iba</th>\n",
       "      <th>sup</th>\n",
       "    </tr>\n",
       "  </thead>\n",
       "  <tbody>\n",
       "    <tr>\n",
       "      <th>Naive Random Oversampling</th>\n",
       "      <td>0.99</td>\n",
       "      <td>0.72</td>\n",
       "      <td>0.62</td>\n",
       "      <td>0.83</td>\n",
       "      <td>0.67</td>\n",
       "      <td>0.45</td>\n",
       "      <td>1037.0</td>\n",
       "    </tr>\n",
       "  </tbody>\n",
       "</table>\n",
       "</div>"
      ],
      "text/plain": [
       "                            pre   rec   spe    f1   geo   iba     sup\n",
       "Naive Random Oversampling  0.99  0.72  0.62  0.83  0.67  0.45  1037.0"
      ]
     },
     "execution_count": 16,
     "metadata": {},
     "output_type": "execute_result"
    }
   ],
   "source": [
    "#Add classification report to the summary table \n",
    "name = 'Naive Random Oversampling'\n",
    "class_dict= classification_report_imbalanced(y_test, y_pred,output_dict=True)\n",
    "class_df= pd.DataFrame(class_dict).round(decimals=2)\n",
    "summary_df = summary_df.append(class_df[1])\n",
    "summary_df.rename(index={1:name},inplace=True)\n",
    "\n",
    "summary_df"
   ]
  },
  {
   "cell_type": "markdown",
   "id": "d09a7ab0",
   "metadata": {},
   "source": [
    "## Cluster Centroids Undersampling"
   ]
  },
  {
   "cell_type": "code",
   "execution_count": 17,
   "id": "391475a6",
   "metadata": {},
   "outputs": [
    {
     "data": {
      "text/plain": [
       "Counter({0: 88, 1: 88})"
      ]
     },
     "execution_count": 17,
     "metadata": {},
     "output_type": "execute_result"
    }
   ],
   "source": [
    "# Resample the data using the ClusterCentroids resampler\n",
    "# Warning: This is a large dataset, and this step may take some time to complete\n",
    "from imblearn.under_sampling import ClusterCentroids\n",
    "ccus = ClusterCentroids(random_state=1)\n",
    "X_resampled, y_resampled = ccus.fit_resample(X_train, y_train)\n",
    "Counter(y_resampled)"
   ]
  },
  {
   "cell_type": "code",
   "execution_count": 18,
   "id": "97539501",
   "metadata": {},
   "outputs": [
    {
     "data": {
      "text/plain": [
       "LogisticRegression(random_state=1)"
      ]
     },
     "execution_count": 18,
     "metadata": {},
     "output_type": "execute_result"
    }
   ],
   "source": [
    "# Train the Logistic Regression model using the resampled data\n",
    "model = LogisticRegression(solver='lbfgs', random_state=1)\n",
    "model.fit(X_resampled, y_resampled)"
   ]
  },
  {
   "cell_type": "code",
   "execution_count": 19,
   "id": "31bd0582",
   "metadata": {},
   "outputs": [
    {
     "data": {
      "text/plain": [
       "0.6622385528547201"
      ]
     },
     "execution_count": 19,
     "metadata": {},
     "output_type": "execute_result"
    }
   ],
   "source": [
    "# Calculated the balanced accuracy score\n",
    "y_pred = model.predict(X_test)\n",
    "BA_Score.append(balanced_accuracy_score(y_test, y_pred))\n",
    "balanced_accuracy_score(y_test, y_pred)"
   ]
  },
  {
   "cell_type": "code",
   "execution_count": 20,
   "id": "b3efc700",
   "metadata": {},
   "outputs": [
    {
     "data": {
      "text/plain": [
       "array([[ 27,   2],\n",
       "       [629, 408]], dtype=int64)"
      ]
     },
     "execution_count": 20,
     "metadata": {},
     "output_type": "execute_result"
    }
   ],
   "source": [
    "# Display the confusion matrix\n",
    "confusion_matrix(y_test, y_pred)"
   ]
  },
  {
   "cell_type": "code",
   "execution_count": 21,
   "id": "6679717e",
   "metadata": {},
   "outputs": [],
   "source": [
    "# Add confusion matrix to confusion matrix list\n",
    "cm_list.append(confusion_matrix(y_test, y_pred))"
   ]
  },
  {
   "cell_type": "code",
   "execution_count": 22,
   "id": "2c5aa0c2",
   "metadata": {},
   "outputs": [
    {
     "name": "stdout",
     "output_type": "stream",
     "text": [
      "                   pre       rec       spe        f1       geo       iba       sup\n",
      "\n",
      "          0       0.04      0.93      0.39      0.08      0.61      0.39        29\n",
      "          1       1.00      0.39      0.93      0.56      0.61      0.35      1037\n",
      "\n",
      "avg / total       0.97      0.41      0.92      0.55      0.61      0.35      1066\n",
      "\n"
     ]
    }
   ],
   "source": [
    "## Print imbalanced classification report\n",
    "print(classification_report_imbalanced(y_test, y_pred))"
   ]
  },
  {
   "cell_type": "code",
   "execution_count": 23,
   "id": "83e95eec",
   "metadata": {},
   "outputs": [
    {
     "data": {
      "text/html": [
       "<div>\n",
       "<style scoped>\n",
       "    .dataframe tbody tr th:only-of-type {\n",
       "        vertical-align: middle;\n",
       "    }\n",
       "\n",
       "    .dataframe tbody tr th {\n",
       "        vertical-align: top;\n",
       "    }\n",
       "\n",
       "    .dataframe thead th {\n",
       "        text-align: right;\n",
       "    }\n",
       "</style>\n",
       "<table border=\"1\" class=\"dataframe\">\n",
       "  <thead>\n",
       "    <tr style=\"text-align: right;\">\n",
       "      <th></th>\n",
       "      <th>pre</th>\n",
       "      <th>rec</th>\n",
       "      <th>spe</th>\n",
       "      <th>f1</th>\n",
       "      <th>geo</th>\n",
       "      <th>iba</th>\n",
       "      <th>sup</th>\n",
       "    </tr>\n",
       "  </thead>\n",
       "  <tbody>\n",
       "    <tr>\n",
       "      <th>Naive Random Oversampling</th>\n",
       "      <td>0.99</td>\n",
       "      <td>0.72</td>\n",
       "      <td>0.62</td>\n",
       "      <td>0.83</td>\n",
       "      <td>0.67</td>\n",
       "      <td>0.45</td>\n",
       "      <td>1037.0</td>\n",
       "    </tr>\n",
       "    <tr>\n",
       "      <th>Cluster Centroids Undersampling</th>\n",
       "      <td>1.00</td>\n",
       "      <td>0.39</td>\n",
       "      <td>0.93</td>\n",
       "      <td>0.56</td>\n",
       "      <td>0.61</td>\n",
       "      <td>0.35</td>\n",
       "      <td>1037.0</td>\n",
       "    </tr>\n",
       "  </tbody>\n",
       "</table>\n",
       "</div>"
      ],
      "text/plain": [
       "                                  pre   rec   spe    f1   geo   iba     sup\n",
       "Naive Random Oversampling        0.99  0.72  0.62  0.83  0.67  0.45  1037.0\n",
       "Cluster Centroids Undersampling  1.00  0.39  0.93  0.56  0.61  0.35  1037.0"
      ]
     },
     "execution_count": 23,
     "metadata": {},
     "output_type": "execute_result"
    }
   ],
   "source": [
    "#Add classification report to summary table \n",
    "name = 'Cluster Centroids Undersampling'\n",
    "class_dict= classification_report_imbalanced(y_test, y_pred,output_dict=True)\n",
    "class_df= pd.DataFrame(class_dict).round(decimals=2)\n",
    "summary_df = summary_df.append(class_df[1])\n",
    "summary_df.rename(index={1:name},inplace=True)\n",
    "summary_df"
   ]
  },
  {
   "cell_type": "markdown",
   "id": "da71c660",
   "metadata": {},
   "source": [
    "## SMOTE Oversampling"
   ]
  },
  {
   "cell_type": "code",
   "execution_count": 24,
   "id": "eb7e6e05",
   "metadata": {},
   "outputs": [
    {
     "data": {
      "text/plain": [
       "Counter({1: 3110, 0: 3110})"
      ]
     },
     "execution_count": 24,
     "metadata": {},
     "output_type": "execute_result"
    }
   ],
   "source": [
    "# Resample the training data with SMOTE\n",
    "from imblearn.over_sampling import SMOTE\n",
    "\n",
    "X_resampled, y_resampled = SMOTE(random_state=1, sampling_strategy=1.0).fit_resample(\n",
    "    X_train, y_train\n",
    ")\n",
    "from collections import Counter\n",
    "\n",
    "Counter(y_resampled)"
   ]
  },
  {
   "cell_type": "code",
   "execution_count": 25,
   "id": "598e92f6",
   "metadata": {},
   "outputs": [
    {
     "data": {
      "text/plain": [
       "LogisticRegression(random_state=1)"
      ]
     },
     "execution_count": 25,
     "metadata": {},
     "output_type": "execute_result"
    }
   ],
   "source": [
    "# Train the Logistic Regression model using the resampled data\n",
    "model = LogisticRegression(solver='lbfgs', random_state=1)\n",
    "model.fit(X_resampled, y_resampled)"
   ]
  },
  {
   "cell_type": "code",
   "execution_count": 26,
   "id": "b3cbe1e1",
   "metadata": {},
   "outputs": [
    {
     "data": {
      "text/plain": [
       "0.5662055664549596"
      ]
     },
     "execution_count": 26,
     "metadata": {},
     "output_type": "execute_result"
    }
   ],
   "source": [
    "# Calculated the balanced accuracy score\n",
    "y_pred = model.predict(X_test)\n",
    "BA_Score.append(balanced_accuracy_score(y_test, y_pred))\n",
    "balanced_accuracy_score(y_test, y_pred)"
   ]
  },
  {
   "cell_type": "code",
   "execution_count": 27,
   "id": "ed97dbb1",
   "metadata": {},
   "outputs": [
    {
     "data": {
      "text/plain": [
       "array([[  7,  22],\n",
       "       [113, 924]], dtype=int64)"
      ]
     },
     "execution_count": 27,
     "metadata": {},
     "output_type": "execute_result"
    }
   ],
   "source": [
    "# Display the SMTOE confusion matrix\n",
    "confusion_matrix(y_test, y_pred)"
   ]
  },
  {
   "cell_type": "code",
   "execution_count": 28,
   "id": "ab6780f6",
   "metadata": {},
   "outputs": [],
   "source": [
    "# Add SMOTE confusion matrix to a list\n",
    "cm_list.append(confusion_matrix(y_test, y_pred))"
   ]
  },
  {
   "cell_type": "code",
   "execution_count": 29,
   "id": "cfddd8f1",
   "metadata": {},
   "outputs": [
    {
     "name": "stdout",
     "output_type": "stream",
     "text": [
      "                   pre       rec       spe        f1       geo       iba       sup\n",
      "\n",
      "          0       0.06      0.24      0.89      0.09      0.46      0.20        29\n",
      "          1       0.98      0.89      0.24      0.93      0.46      0.23      1037\n",
      "\n",
      "avg / total       0.95      0.87      0.26      0.91      0.46      0.23      1066\n",
      "\n"
     ]
    }
   ],
   "source": [
    "## Print imbalanced classification report\n",
    "print(classification_report_imbalanced(y_test, y_pred))"
   ]
  },
  {
   "cell_type": "code",
   "execution_count": 30,
   "id": "3767cc4e",
   "metadata": {},
   "outputs": [
    {
     "data": {
      "text/html": [
       "<div>\n",
       "<style scoped>\n",
       "    .dataframe tbody tr th:only-of-type {\n",
       "        vertical-align: middle;\n",
       "    }\n",
       "\n",
       "    .dataframe tbody tr th {\n",
       "        vertical-align: top;\n",
       "    }\n",
       "\n",
       "    .dataframe thead th {\n",
       "        text-align: right;\n",
       "    }\n",
       "</style>\n",
       "<table border=\"1\" class=\"dataframe\">\n",
       "  <thead>\n",
       "    <tr style=\"text-align: right;\">\n",
       "      <th></th>\n",
       "      <th>pre</th>\n",
       "      <th>rec</th>\n",
       "      <th>spe</th>\n",
       "      <th>f1</th>\n",
       "      <th>geo</th>\n",
       "      <th>iba</th>\n",
       "      <th>sup</th>\n",
       "    </tr>\n",
       "  </thead>\n",
       "  <tbody>\n",
       "    <tr>\n",
       "      <th>Naive Random Oversampling</th>\n",
       "      <td>0.99</td>\n",
       "      <td>0.72</td>\n",
       "      <td>0.62</td>\n",
       "      <td>0.83</td>\n",
       "      <td>0.67</td>\n",
       "      <td>0.45</td>\n",
       "      <td>1037.0</td>\n",
       "    </tr>\n",
       "    <tr>\n",
       "      <th>Cluster Centroids Undersampling</th>\n",
       "      <td>1.00</td>\n",
       "      <td>0.39</td>\n",
       "      <td>0.93</td>\n",
       "      <td>0.56</td>\n",
       "      <td>0.61</td>\n",
       "      <td>0.35</td>\n",
       "      <td>1037.0</td>\n",
       "    </tr>\n",
       "    <tr>\n",
       "      <th>SMOTE</th>\n",
       "      <td>0.98</td>\n",
       "      <td>0.89</td>\n",
       "      <td>0.24</td>\n",
       "      <td>0.93</td>\n",
       "      <td>0.46</td>\n",
       "      <td>0.23</td>\n",
       "      <td>1037.0</td>\n",
       "    </tr>\n",
       "  </tbody>\n",
       "</table>\n",
       "</div>"
      ],
      "text/plain": [
       "                                  pre   rec   spe    f1   geo   iba     sup\n",
       "Naive Random Oversampling        0.99  0.72  0.62  0.83  0.67  0.45  1037.0\n",
       "Cluster Centroids Undersampling  1.00  0.39  0.93  0.56  0.61  0.35  1037.0\n",
       "SMOTE                            0.98  0.89  0.24  0.93  0.46  0.23  1037.0"
      ]
     },
     "execution_count": 30,
     "metadata": {},
     "output_type": "execute_result"
    }
   ],
   "source": [
    "#Add classification report to summary table \n",
    "name = 'SMOTE'\n",
    "class_dict= classification_report_imbalanced(y_test, y_pred,output_dict=True)\n",
    "class_df= pd.DataFrame(class_dict).round(decimals=2)\n",
    "summary_df = summary_df.append(class_df[1])\n",
    "summary_df.rename(index={1:name},inplace=True)\n",
    "summary_df"
   ]
  },
  {
   "cell_type": "markdown",
   "id": "3cb6dccd",
   "metadata": {},
   "source": [
    "## Combination (Over and Under) Sampling"
   ]
  },
  {
   "cell_type": "code",
   "execution_count": 31,
   "id": "00cb00f7",
   "metadata": {},
   "outputs": [
    {
     "data": {
      "text/plain": [
       "Counter({0: 2895, 1: 2646})"
      ]
     },
     "execution_count": 31,
     "metadata": {},
     "output_type": "execute_result"
    }
   ],
   "source": [
    "# Resample the training data with SMOTEENN\n",
    "# Warning: This is a large dataset, and this step may take some time to complete\n",
    "from imblearn.combine import SMOTEENN\n",
    "sm = SMOTEENN(random_state=1)\n",
    "X_resampled, y_resampled = sm.fit_resample(X, y)\n",
    "Counter(y_resampled)"
   ]
  },
  {
   "cell_type": "code",
   "execution_count": 32,
   "id": "9591fb63",
   "metadata": {},
   "outputs": [
    {
     "data": {
      "text/plain": [
       "LogisticRegression(random_state=1)"
      ]
     },
     "execution_count": 32,
     "metadata": {},
     "output_type": "execute_result"
    }
   ],
   "source": [
    "# Train the Logistic Regression model using the resampled data\n",
    "model = LogisticRegression(solver='lbfgs', random_state=1)\n",
    "model.fit(X_resampled, y_resampled)"
   ]
  },
  {
   "cell_type": "code",
   "execution_count": 33,
   "id": "0d7443ac",
   "metadata": {},
   "outputs": [
    {
     "data": {
      "text/plain": [
       "0.6299837063146344"
      ]
     },
     "execution_count": 33,
     "metadata": {},
     "output_type": "execute_result"
    }
   ],
   "source": [
    "# Calculated the balanced accuracy score\n",
    "y_pred = model.predict(X_test)\n",
    "BA_Score.append(balanced_accuracy_score(y_test, y_pred))\n",
    "balanced_accuracy_score(y_test, y_pred)"
   ]
  },
  {
   "cell_type": "code",
   "execution_count": 34,
   "id": "b2a6fbcc",
   "metadata": {},
   "outputs": [
    {
     "data": {
      "text/plain": [
       "array([[ 10,  19],\n",
       "       [ 88, 949]], dtype=int64)"
      ]
     },
     "execution_count": 34,
     "metadata": {},
     "output_type": "execute_result"
    }
   ],
   "source": [
    "# Display the SMTOE confusion matrix\n",
    "confusion_matrix(y_test, y_pred)"
   ]
  },
  {
   "cell_type": "code",
   "execution_count": 35,
   "id": "c5866b9f",
   "metadata": {},
   "outputs": [],
   "source": [
    "# Add SMOTE confusion matrix to a list\n",
    "cm_list.append(confusion_matrix(y_test, y_pred))"
   ]
  },
  {
   "cell_type": "code",
   "execution_count": 36,
   "id": "dbad2060",
   "metadata": {},
   "outputs": [
    {
     "data": {
      "text/html": [
       "<div>\n",
       "<style scoped>\n",
       "    .dataframe tbody tr th:only-of-type {\n",
       "        vertical-align: middle;\n",
       "    }\n",
       "\n",
       "    .dataframe tbody tr th {\n",
       "        vertical-align: top;\n",
       "    }\n",
       "\n",
       "    .dataframe thead th {\n",
       "        text-align: right;\n",
       "    }\n",
       "</style>\n",
       "<table border=\"1\" class=\"dataframe\">\n",
       "  <thead>\n",
       "    <tr style=\"text-align: right;\">\n",
       "      <th></th>\n",
       "      <th>pre</th>\n",
       "      <th>rec</th>\n",
       "      <th>spe</th>\n",
       "      <th>f1</th>\n",
       "      <th>geo</th>\n",
       "      <th>iba</th>\n",
       "      <th>sup</th>\n",
       "    </tr>\n",
       "  </thead>\n",
       "  <tbody>\n",
       "    <tr>\n",
       "      <th>Naive Random Oversampling</th>\n",
       "      <td>0.99</td>\n",
       "      <td>0.72</td>\n",
       "      <td>0.62</td>\n",
       "      <td>0.83</td>\n",
       "      <td>0.67</td>\n",
       "      <td>0.45</td>\n",
       "      <td>1037.0</td>\n",
       "    </tr>\n",
       "    <tr>\n",
       "      <th>Cluster Centroids Undersampling</th>\n",
       "      <td>1.00</td>\n",
       "      <td>0.39</td>\n",
       "      <td>0.93</td>\n",
       "      <td>0.56</td>\n",
       "      <td>0.61</td>\n",
       "      <td>0.35</td>\n",
       "      <td>1037.0</td>\n",
       "    </tr>\n",
       "    <tr>\n",
       "      <th>SMOTE</th>\n",
       "      <td>0.98</td>\n",
       "      <td>0.89</td>\n",
       "      <td>0.24</td>\n",
       "      <td>0.93</td>\n",
       "      <td>0.46</td>\n",
       "      <td>0.23</td>\n",
       "      <td>1037.0</td>\n",
       "    </tr>\n",
       "    <tr>\n",
       "      <th>SMOTEENN</th>\n",
       "      <td>0.98</td>\n",
       "      <td>0.92</td>\n",
       "      <td>0.34</td>\n",
       "      <td>0.95</td>\n",
       "      <td>0.56</td>\n",
       "      <td>0.33</td>\n",
       "      <td>1037.0</td>\n",
       "    </tr>\n",
       "  </tbody>\n",
       "</table>\n",
       "</div>"
      ],
      "text/plain": [
       "                                  pre   rec   spe    f1   geo   iba     sup\n",
       "Naive Random Oversampling        0.99  0.72  0.62  0.83  0.67  0.45  1037.0\n",
       "Cluster Centroids Undersampling  1.00  0.39  0.93  0.56  0.61  0.35  1037.0\n",
       "SMOTE                            0.98  0.89  0.24  0.93  0.46  0.23  1037.0\n",
       "SMOTEENN                         0.98  0.92  0.34  0.95  0.56  0.33  1037.0"
      ]
     },
     "execution_count": 36,
     "metadata": {},
     "output_type": "execute_result"
    }
   ],
   "source": [
    "#Add classification report to summary table \n",
    "name = 'SMOTEENN'\n",
    "class_dict= classification_report_imbalanced(y_test, y_pred,output_dict=True)\n",
    "class_df= pd.DataFrame(class_dict).round(decimals=2)\n",
    "summary_df = summary_df.append(class_df[1])\n",
    "summary_df.rename(index={1:name},inplace=True)\n",
    "summary_df"
   ]
  },
  {
   "cell_type": "markdown",
   "id": "2ad46af6",
   "metadata": {},
   "source": [
    "## Random Forest Model"
   ]
  },
  {
   "cell_type": "code",
   "execution_count": 37,
   "id": "3b6e28e2",
   "metadata": {},
   "outputs": [
    {
     "data": {
      "text/plain": [
       "BalancedRandomForestClassifier(random_state=1)"
      ]
     },
     "execution_count": 37,
     "metadata": {},
     "output_type": "execute_result"
    }
   ],
   "source": [
    "# Resample the training data with the BalancedRandomForestClassifier\n",
    "from imblearn.ensemble import BalancedRandomForestClassifier\n",
    "from sklearn.datasets import make_classification\n",
    "brf_class = BalancedRandomForestClassifier(n_estimators=100, random_state=1)\n",
    "brf_class.fit(X_train, y_train)"
   ]
  },
  {
   "cell_type": "code",
   "execution_count": 38,
   "id": "7c7206ff",
   "metadata": {},
   "outputs": [
    {
     "data": {
      "text/plain": [
       "0.7780567286270076"
      ]
     },
     "execution_count": 38,
     "metadata": {},
     "output_type": "execute_result"
    }
   ],
   "source": [
    "# Calculated the balanced accuracy score\n",
    "y_pred = brf_class.predict(X_test)\n",
    "BA_Score.append(balanced_accuracy_score(y_test, y_pred))\n",
    "balanced_accuracy_score(y_test, y_pred)"
   ]
  },
  {
   "cell_type": "code",
   "execution_count": 39,
   "id": "5305a610",
   "metadata": {},
   "outputs": [
    {
     "data": {
      "text/plain": [
       "array([[ 22,   7],\n",
       "       [210, 827]], dtype=int64)"
      ]
     },
     "execution_count": 39,
     "metadata": {},
     "output_type": "execute_result"
    }
   ],
   "source": [
    "# Display the confusion matrix\n",
    "confusion_matrix(y_test, y_pred)"
   ]
  },
  {
   "cell_type": "code",
   "execution_count": 40,
   "id": "7622fab9",
   "metadata": {},
   "outputs": [],
   "source": [
    "# Add Random Forest confusion matrix to cm list\n",
    "cm_list.append(confusion_matrix(y_test, y_pred))"
   ]
  },
  {
   "cell_type": "code",
   "execution_count": 41,
   "id": "99e96171",
   "metadata": {},
   "outputs": [
    {
     "name": "stdout",
     "output_type": "stream",
     "text": [
      "                   pre       rec       spe        f1       geo       iba       sup\n",
      "\n",
      "          0       0.09      0.76      0.80      0.17      0.78      0.60        29\n",
      "          1       0.99      0.80      0.76      0.88      0.78      0.61      1037\n",
      "\n",
      "avg / total       0.97      0.80      0.76      0.86      0.78      0.61      1066\n",
      "\n"
     ]
    }
   ],
   "source": [
    "# Print the imbalanced classification report\n",
    "print(classification_report_imbalanced(y_test, y_pred))"
   ]
  },
  {
   "cell_type": "code",
   "execution_count": 42,
   "id": "d2486cc8",
   "metadata": {},
   "outputs": [
    {
     "data": {
      "text/html": [
       "<div>\n",
       "<style scoped>\n",
       "    .dataframe tbody tr th:only-of-type {\n",
       "        vertical-align: middle;\n",
       "    }\n",
       "\n",
       "    .dataframe tbody tr th {\n",
       "        vertical-align: top;\n",
       "    }\n",
       "\n",
       "    .dataframe thead th {\n",
       "        text-align: right;\n",
       "    }\n",
       "</style>\n",
       "<table border=\"1\" class=\"dataframe\">\n",
       "  <thead>\n",
       "    <tr style=\"text-align: right;\">\n",
       "      <th></th>\n",
       "      <th>Feature Importance</th>\n",
       "      <th>Feature</th>\n",
       "    </tr>\n",
       "  </thead>\n",
       "  <tbody>\n",
       "    <tr>\n",
       "      <th>0</th>\n",
       "      <td>0.081591</td>\n",
       "      <td>budget_ranges_High</td>\n",
       "    </tr>\n",
       "    <tr>\n",
       "      <th>1</th>\n",
       "      <td>0.074070</td>\n",
       "      <td>runtime_ranges_High</td>\n",
       "    </tr>\n",
       "    <tr>\n",
       "      <th>2</th>\n",
       "      <td>0.069631</td>\n",
       "      <td>genres_Drama</td>\n",
       "    </tr>\n",
       "    <tr>\n",
       "      <th>3</th>\n",
       "      <td>0.068414</td>\n",
       "      <td>budget_ranges_Medium</td>\n",
       "    </tr>\n",
       "    <tr>\n",
       "      <th>4</th>\n",
       "      <td>0.063684</td>\n",
       "      <td>revenue_ranges_Medium</td>\n",
       "    </tr>\n",
       "    <tr>\n",
       "      <th>5</th>\n",
       "      <td>0.062839</td>\n",
       "      <td>genres_Comedy</td>\n",
       "    </tr>\n",
       "    <tr>\n",
       "      <th>6</th>\n",
       "      <td>0.061453</td>\n",
       "      <td>runtime_ranges_Medium</td>\n",
       "    </tr>\n",
       "    <tr>\n",
       "      <th>7</th>\n",
       "      <td>0.057514</td>\n",
       "      <td>revenue_ranges_Low</td>\n",
       "    </tr>\n",
       "    <tr>\n",
       "      <th>8</th>\n",
       "      <td>0.057505</td>\n",
       "      <td>revenue_ranges_High</td>\n",
       "    </tr>\n",
       "    <tr>\n",
       "      <th>9</th>\n",
       "      <td>0.055575</td>\n",
       "      <td>budget_ranges_Low</td>\n",
       "    </tr>\n",
       "    <tr>\n",
       "      <th>10</th>\n",
       "      <td>0.054818</td>\n",
       "      <td>genres_Fantasy</td>\n",
       "    </tr>\n",
       "    <tr>\n",
       "      <th>11</th>\n",
       "      <td>0.048933</td>\n",
       "      <td>genres_Adventure</td>\n",
       "    </tr>\n",
       "    <tr>\n",
       "      <th>12</th>\n",
       "      <td>0.044638</td>\n",
       "      <td>runtime_ranges_Low</td>\n",
       "    </tr>\n",
       "    <tr>\n",
       "      <th>13</th>\n",
       "      <td>0.041225</td>\n",
       "      <td>genres_Action</td>\n",
       "    </tr>\n",
       "    <tr>\n",
       "      <th>14</th>\n",
       "      <td>0.034190</td>\n",
       "      <td>genres_Crime</td>\n",
       "    </tr>\n",
       "    <tr>\n",
       "      <th>15</th>\n",
       "      <td>0.034094</td>\n",
       "      <td>genres_Animation</td>\n",
       "    </tr>\n",
       "    <tr>\n",
       "      <th>16</th>\n",
       "      <td>0.017847</td>\n",
       "      <td>genres_Thriller</td>\n",
       "    </tr>\n",
       "    <tr>\n",
       "      <th>17</th>\n",
       "      <td>0.012332</td>\n",
       "      <td>genres_War</td>\n",
       "    </tr>\n",
       "    <tr>\n",
       "      <th>18</th>\n",
       "      <td>0.010599</td>\n",
       "      <td>genres_Documentary</td>\n",
       "    </tr>\n",
       "    <tr>\n",
       "      <th>19</th>\n",
       "      <td>0.009939</td>\n",
       "      <td>genres_Romance</td>\n",
       "    </tr>\n",
       "    <tr>\n",
       "      <th>20</th>\n",
       "      <td>0.009142</td>\n",
       "      <td>genres_Horror</td>\n",
       "    </tr>\n",
       "    <tr>\n",
       "      <th>21</th>\n",
       "      <td>0.007425</td>\n",
       "      <td>genres_Science</td>\n",
       "    </tr>\n",
       "    <tr>\n",
       "      <th>22</th>\n",
       "      <td>0.006870</td>\n",
       "      <td>genres_History</td>\n",
       "    </tr>\n",
       "    <tr>\n",
       "      <th>23</th>\n",
       "      <td>0.006173</td>\n",
       "      <td>genres_Western</td>\n",
       "    </tr>\n",
       "    <tr>\n",
       "      <th>24</th>\n",
       "      <td>0.005854</td>\n",
       "      <td>genres_Mystery</td>\n",
       "    </tr>\n",
       "    <tr>\n",
       "      <th>25</th>\n",
       "      <td>0.002552</td>\n",
       "      <td>genres_Music</td>\n",
       "    </tr>\n",
       "    <tr>\n",
       "      <th>26</th>\n",
       "      <td>0.001092</td>\n",
       "      <td>genres_Family</td>\n",
       "    </tr>\n",
       "  </tbody>\n",
       "</table>\n",
       "</div>"
      ],
      "text/plain": [
       "    Feature Importance                Feature\n",
       "0             0.081591     budget_ranges_High\n",
       "1             0.074070    runtime_ranges_High\n",
       "2             0.069631           genres_Drama\n",
       "3             0.068414   budget_ranges_Medium\n",
       "4             0.063684  revenue_ranges_Medium\n",
       "5             0.062839          genres_Comedy\n",
       "6             0.061453  runtime_ranges_Medium\n",
       "7             0.057514     revenue_ranges_Low\n",
       "8             0.057505    revenue_ranges_High\n",
       "9             0.055575      budget_ranges_Low\n",
       "10            0.054818         genres_Fantasy\n",
       "11            0.048933       genres_Adventure\n",
       "12            0.044638     runtime_ranges_Low\n",
       "13            0.041225          genres_Action\n",
       "14            0.034190           genres_Crime\n",
       "15            0.034094       genres_Animation\n",
       "16            0.017847        genres_Thriller\n",
       "17            0.012332             genres_War\n",
       "18            0.010599     genres_Documentary\n",
       "19            0.009939         genres_Romance\n",
       "20            0.009142          genres_Horror\n",
       "21            0.007425         genres_Science\n",
       "22            0.006870         genres_History\n",
       "23            0.006173         genres_Western\n",
       "24            0.005854         genres_Mystery\n",
       "25            0.002552           genres_Music\n",
       "26            0.001092          genres_Family"
      ]
     },
     "execution_count": 42,
     "metadata": {},
     "output_type": "execute_result"
    }
   ],
   "source": [
    "# List the features sorted in descending order by feature importance\n",
    "features_df = pd.DataFrame(sorted(zip(brf_class.feature_importances_, X_test.columns), reverse=True))\n",
    "\n",
    "features_df.rename(columns={0: \"Feature Importance\", 1: \"Feature\"},inplace=True)\n",
    "\n",
    "features_df"
   ]
  },
  {
   "cell_type": "code",
   "execution_count": 43,
   "id": "3e2277e6",
   "metadata": {},
   "outputs": [
    {
     "data": {
      "text/html": [
       "<div>\n",
       "<style scoped>\n",
       "    .dataframe tbody tr th:only-of-type {\n",
       "        vertical-align: middle;\n",
       "    }\n",
       "\n",
       "    .dataframe tbody tr th {\n",
       "        vertical-align: top;\n",
       "    }\n",
       "\n",
       "    .dataframe thead th {\n",
       "        text-align: right;\n",
       "    }\n",
       "</style>\n",
       "<table border=\"1\" class=\"dataframe\">\n",
       "  <thead>\n",
       "    <tr style=\"text-align: right;\">\n",
       "      <th></th>\n",
       "      <th>pre</th>\n",
       "      <th>rec</th>\n",
       "      <th>spe</th>\n",
       "      <th>f1</th>\n",
       "      <th>geo</th>\n",
       "      <th>iba</th>\n",
       "      <th>sup</th>\n",
       "    </tr>\n",
       "  </thead>\n",
       "  <tbody>\n",
       "    <tr>\n",
       "      <th>Naive Random Oversampling</th>\n",
       "      <td>0.99</td>\n",
       "      <td>0.72</td>\n",
       "      <td>0.62</td>\n",
       "      <td>0.83</td>\n",
       "      <td>0.67</td>\n",
       "      <td>0.45</td>\n",
       "      <td>1037.0</td>\n",
       "    </tr>\n",
       "    <tr>\n",
       "      <th>Cluster Centroids Undersampling</th>\n",
       "      <td>1.00</td>\n",
       "      <td>0.39</td>\n",
       "      <td>0.93</td>\n",
       "      <td>0.56</td>\n",
       "      <td>0.61</td>\n",
       "      <td>0.35</td>\n",
       "      <td>1037.0</td>\n",
       "    </tr>\n",
       "    <tr>\n",
       "      <th>SMOTE</th>\n",
       "      <td>0.98</td>\n",
       "      <td>0.89</td>\n",
       "      <td>0.24</td>\n",
       "      <td>0.93</td>\n",
       "      <td>0.46</td>\n",
       "      <td>0.23</td>\n",
       "      <td>1037.0</td>\n",
       "    </tr>\n",
       "    <tr>\n",
       "      <th>SMOTEENN</th>\n",
       "      <td>0.98</td>\n",
       "      <td>0.92</td>\n",
       "      <td>0.34</td>\n",
       "      <td>0.95</td>\n",
       "      <td>0.56</td>\n",
       "      <td>0.33</td>\n",
       "      <td>1037.0</td>\n",
       "    </tr>\n",
       "    <tr>\n",
       "      <th>Random Forest</th>\n",
       "      <td>0.99</td>\n",
       "      <td>0.80</td>\n",
       "      <td>0.76</td>\n",
       "      <td>0.88</td>\n",
       "      <td>0.78</td>\n",
       "      <td>0.61</td>\n",
       "      <td>1037.0</td>\n",
       "    </tr>\n",
       "  </tbody>\n",
       "</table>\n",
       "</div>"
      ],
      "text/plain": [
       "                                  pre   rec   spe    f1   geo   iba     sup\n",
       "Naive Random Oversampling        0.99  0.72  0.62  0.83  0.67  0.45  1037.0\n",
       "Cluster Centroids Undersampling  1.00  0.39  0.93  0.56  0.61  0.35  1037.0\n",
       "SMOTE                            0.98  0.89  0.24  0.93  0.46  0.23  1037.0\n",
       "SMOTEENN                         0.98  0.92  0.34  0.95  0.56  0.33  1037.0\n",
       "Random Forest                    0.99  0.80  0.76  0.88  0.78  0.61  1037.0"
      ]
     },
     "execution_count": 43,
     "metadata": {},
     "output_type": "execute_result"
    }
   ],
   "source": [
    "#Add classification report to summary table \n",
    "name = 'Random Forest'\n",
    "class_dict= classification_report_imbalanced(y_test, y_pred,output_dict=True)\n",
    "class_df= pd.DataFrame(class_dict).round(decimals=2)\n",
    "summary_df = summary_df.append(class_df[1])\n",
    "summary_df.rename(index={1:name},inplace=True)\n",
    "summary_df"
   ]
  },
  {
   "cell_type": "markdown",
   "id": "3ec7578f",
   "metadata": {},
   "source": [
    "## Random Forest using Easy Ensemble Classifier"
   ]
  },
  {
   "cell_type": "code",
   "execution_count": 44,
   "id": "5b4a0624",
   "metadata": {},
   "outputs": [],
   "source": [
    "# Train the EasyEnsembleClassifier\n",
    "from imblearn.ensemble import EasyEnsembleClassifier\n",
    "brf_class = EasyEnsembleClassifier(n_estimators=100, random_state=1).fit(X_train,y_train)"
   ]
  },
  {
   "cell_type": "code",
   "execution_count": 45,
   "id": "1b179d3b",
   "metadata": {},
   "outputs": [
    {
     "data": {
      "text/plain": [
       "0.66642835766302"
      ]
     },
     "execution_count": 45,
     "metadata": {},
     "output_type": "execute_result"
    }
   ],
   "source": [
    "y_pred = brf_class.predict(X_test)\n",
    "balanced_accuracy_score(y_test, y_pred)"
   ]
  },
  {
   "cell_type": "code",
   "execution_count": 46,
   "id": "70a79a6f",
   "metadata": {},
   "outputs": [
    {
     "data": {
      "text/plain": [
       "0.66642835766302"
      ]
     },
     "execution_count": 46,
     "metadata": {},
     "output_type": "execute_result"
    }
   ],
   "source": [
    "# Calculated the balanced accuracy score\n",
    "y_pred = brf_class.predict(X_test)\n",
    "BA_Score.append(balanced_accuracy_score(y_test, y_pred))\n",
    "balanced_accuracy_score(y_test, y_pred)"
   ]
  },
  {
   "cell_type": "code",
   "execution_count": 47,
   "id": "758164f8",
   "metadata": {},
   "outputs": [
    {
     "data": {
      "text/plain": [
       "array([[ 20,   9],\n",
       "       [370, 667]], dtype=int64)"
      ]
     },
     "execution_count": 47,
     "metadata": {},
     "output_type": "execute_result"
    }
   ],
   "source": [
    "# Display the confusion matrix\n",
    "confusion_matrix(y_test, y_pred)"
   ]
  },
  {
   "cell_type": "code",
   "execution_count": 48,
   "id": "5242fc6f",
   "metadata": {},
   "outputs": [],
   "source": [
    "# Add RF EE Classifier confusion matrix to CM list\n",
    "cm_list.append(confusion_matrix(y_test, y_pred))"
   ]
  },
  {
   "cell_type": "code",
   "execution_count": 49,
   "id": "5b33615a",
   "metadata": {},
   "outputs": [
    {
     "name": "stdout",
     "output_type": "stream",
     "text": [
      "                   pre       rec       spe        f1       geo       iba       sup\n",
      "\n",
      "          0       0.05      0.69      0.64      0.10      0.67      0.45        29\n",
      "          1       0.99      0.64      0.69      0.78      0.67      0.44      1037\n",
      "\n",
      "avg / total       0.96      0.64      0.69      0.76      0.67      0.44      1066\n",
      "\n"
     ]
    }
   ],
   "source": [
    "# Print the imbalanced classification report\n",
    "print(classification_report_imbalanced(y_test, y_pred))"
   ]
  },
  {
   "cell_type": "code",
   "execution_count": 50,
   "id": "7d8f1ecf",
   "metadata": {},
   "outputs": [
    {
     "data": {
      "text/html": [
       "<div>\n",
       "<style scoped>\n",
       "    .dataframe tbody tr th:only-of-type {\n",
       "        vertical-align: middle;\n",
       "    }\n",
       "\n",
       "    .dataframe tbody tr th {\n",
       "        vertical-align: top;\n",
       "    }\n",
       "\n",
       "    .dataframe thead th {\n",
       "        text-align: right;\n",
       "    }\n",
       "</style>\n",
       "<table border=\"1\" class=\"dataframe\">\n",
       "  <thead>\n",
       "    <tr style=\"text-align: right;\">\n",
       "      <th></th>\n",
       "      <th>pre</th>\n",
       "      <th>rec</th>\n",
       "      <th>spe</th>\n",
       "      <th>f1</th>\n",
       "      <th>geo</th>\n",
       "      <th>iba</th>\n",
       "      <th>sup</th>\n",
       "    </tr>\n",
       "  </thead>\n",
       "  <tbody>\n",
       "    <tr>\n",
       "      <th>Naive Random Oversampling</th>\n",
       "      <td>0.99</td>\n",
       "      <td>0.72</td>\n",
       "      <td>0.62</td>\n",
       "      <td>0.83</td>\n",
       "      <td>0.67</td>\n",
       "      <td>0.45</td>\n",
       "      <td>1037.0</td>\n",
       "    </tr>\n",
       "    <tr>\n",
       "      <th>Cluster Centroids Undersampling</th>\n",
       "      <td>1.00</td>\n",
       "      <td>0.39</td>\n",
       "      <td>0.93</td>\n",
       "      <td>0.56</td>\n",
       "      <td>0.61</td>\n",
       "      <td>0.35</td>\n",
       "      <td>1037.0</td>\n",
       "    </tr>\n",
       "    <tr>\n",
       "      <th>SMOTE</th>\n",
       "      <td>0.98</td>\n",
       "      <td>0.89</td>\n",
       "      <td>0.24</td>\n",
       "      <td>0.93</td>\n",
       "      <td>0.46</td>\n",
       "      <td>0.23</td>\n",
       "      <td>1037.0</td>\n",
       "    </tr>\n",
       "    <tr>\n",
       "      <th>SMOTEENN</th>\n",
       "      <td>0.98</td>\n",
       "      <td>0.92</td>\n",
       "      <td>0.34</td>\n",
       "      <td>0.95</td>\n",
       "      <td>0.56</td>\n",
       "      <td>0.33</td>\n",
       "      <td>1037.0</td>\n",
       "    </tr>\n",
       "    <tr>\n",
       "      <th>Random Forest</th>\n",
       "      <td>0.99</td>\n",
       "      <td>0.80</td>\n",
       "      <td>0.76</td>\n",
       "      <td>0.88</td>\n",
       "      <td>0.78</td>\n",
       "      <td>0.61</td>\n",
       "      <td>1037.0</td>\n",
       "    </tr>\n",
       "    <tr>\n",
       "      <th>Random Forest w/ Easy Ensemble Classifier</th>\n",
       "      <td>0.99</td>\n",
       "      <td>0.64</td>\n",
       "      <td>0.69</td>\n",
       "      <td>0.78</td>\n",
       "      <td>0.67</td>\n",
       "      <td>0.44</td>\n",
       "      <td>1037.0</td>\n",
       "    </tr>\n",
       "  </tbody>\n",
       "</table>\n",
       "</div>"
      ],
      "text/plain": [
       "                                             pre   rec   spe    f1   geo  \\\n",
       "Naive Random Oversampling                   0.99  0.72  0.62  0.83  0.67   \n",
       "Cluster Centroids Undersampling             1.00  0.39  0.93  0.56  0.61   \n",
       "SMOTE                                       0.98  0.89  0.24  0.93  0.46   \n",
       "SMOTEENN                                    0.98  0.92  0.34  0.95  0.56   \n",
       "Random Forest                               0.99  0.80  0.76  0.88  0.78   \n",
       "Random Forest w/ Easy Ensemble Classifier   0.99  0.64  0.69  0.78  0.67   \n",
       "\n",
       "                                             iba     sup  \n",
       "Naive Random Oversampling                   0.45  1037.0  \n",
       "Cluster Centroids Undersampling             0.35  1037.0  \n",
       "SMOTE                                       0.23  1037.0  \n",
       "SMOTEENN                                    0.33  1037.0  \n",
       "Random Forest                               0.61  1037.0  \n",
       "Random Forest w/ Easy Ensemble Classifier   0.44  1037.0  "
      ]
     },
     "execution_count": 50,
     "metadata": {},
     "output_type": "execute_result"
    }
   ],
   "source": [
    "#Add classification report to summary table \n",
    "name = 'Random Forest w/ Easy Ensemble Classifier '\n",
    "class_dict= classification_report_imbalanced(y_test, y_pred,output_dict=True)\n",
    "class_df= pd.DataFrame(class_dict).round(decimals=2)\n",
    "summary_df = summary_df.append(class_df[1])\n",
    "summary_df.rename(index={1:name},inplace=True)\n",
    "summary_df"
   ]
  },
  {
   "cell_type": "markdown",
   "id": "c3b5229e",
   "metadata": {},
   "source": [
    "## Summarized Table"
   ]
  },
  {
   "cell_type": "code",
   "execution_count": 51,
   "id": "7c728439",
   "metadata": {},
   "outputs": [
    {
     "data": {
      "text/html": [
       "<div>\n",
       "<style scoped>\n",
       "    .dataframe tbody tr th:only-of-type {\n",
       "        vertical-align: middle;\n",
       "    }\n",
       "\n",
       "    .dataframe tbody tr th {\n",
       "        vertical-align: top;\n",
       "    }\n",
       "\n",
       "    .dataframe thead th {\n",
       "        text-align: right;\n",
       "    }\n",
       "</style>\n",
       "<table border=\"1\" class=\"dataframe\">\n",
       "  <thead>\n",
       "    <tr style=\"text-align: right;\">\n",
       "      <th></th>\n",
       "      <th>pre</th>\n",
       "      <th>rec</th>\n",
       "      <th>spe</th>\n",
       "      <th>f1</th>\n",
       "      <th>geo</th>\n",
       "      <th>iba</th>\n",
       "      <th>sup</th>\n",
       "      <th>BA_Score</th>\n",
       "      <th>Confusion Matrix</th>\n",
       "    </tr>\n",
       "  </thead>\n",
       "  <tbody>\n",
       "    <tr>\n",
       "      <th>Naive Random Oversampling</th>\n",
       "      <td>0.99</td>\n",
       "      <td>0.72</td>\n",
       "      <td>0.62</td>\n",
       "      <td>0.83</td>\n",
       "      <td>0.67</td>\n",
       "      <td>0.45</td>\n",
       "      <td>1037.0</td>\n",
       "      <td>0.67</td>\n",
       "      <td>[[18, 11], [290, 747]]</td>\n",
       "    </tr>\n",
       "    <tr>\n",
       "      <th>Cluster Centroids Undersampling</th>\n",
       "      <td>1.00</td>\n",
       "      <td>0.39</td>\n",
       "      <td>0.93</td>\n",
       "      <td>0.56</td>\n",
       "      <td>0.61</td>\n",
       "      <td>0.35</td>\n",
       "      <td>1037.0</td>\n",
       "      <td>0.66</td>\n",
       "      <td>[[27, 2], [629, 408]]</td>\n",
       "    </tr>\n",
       "    <tr>\n",
       "      <th>SMOTE</th>\n",
       "      <td>0.98</td>\n",
       "      <td>0.89</td>\n",
       "      <td>0.24</td>\n",
       "      <td>0.93</td>\n",
       "      <td>0.46</td>\n",
       "      <td>0.23</td>\n",
       "      <td>1037.0</td>\n",
       "      <td>0.57</td>\n",
       "      <td>[[7, 22], [113, 924]]</td>\n",
       "    </tr>\n",
       "    <tr>\n",
       "      <th>SMOTEENN</th>\n",
       "      <td>0.98</td>\n",
       "      <td>0.92</td>\n",
       "      <td>0.34</td>\n",
       "      <td>0.95</td>\n",
       "      <td>0.56</td>\n",
       "      <td>0.33</td>\n",
       "      <td>1037.0</td>\n",
       "      <td>0.63</td>\n",
       "      <td>[[10, 19], [88, 949]]</td>\n",
       "    </tr>\n",
       "    <tr>\n",
       "      <th>Random Forest</th>\n",
       "      <td>0.99</td>\n",
       "      <td>0.80</td>\n",
       "      <td>0.76</td>\n",
       "      <td>0.88</td>\n",
       "      <td>0.78</td>\n",
       "      <td>0.61</td>\n",
       "      <td>1037.0</td>\n",
       "      <td>0.78</td>\n",
       "      <td>[[22, 7], [210, 827]]</td>\n",
       "    </tr>\n",
       "    <tr>\n",
       "      <th>Random Forest w/ Easy Ensemble Classifier</th>\n",
       "      <td>0.99</td>\n",
       "      <td>0.64</td>\n",
       "      <td>0.69</td>\n",
       "      <td>0.78</td>\n",
       "      <td>0.67</td>\n",
       "      <td>0.44</td>\n",
       "      <td>1037.0</td>\n",
       "      <td>0.67</td>\n",
       "      <td>[[20, 9], [370, 667]]</td>\n",
       "    </tr>\n",
       "  </tbody>\n",
       "</table>\n",
       "</div>"
      ],
      "text/plain": [
       "                                             pre   rec   spe    f1   geo  \\\n",
       "Naive Random Oversampling                   0.99  0.72  0.62  0.83  0.67   \n",
       "Cluster Centroids Undersampling             1.00  0.39  0.93  0.56  0.61   \n",
       "SMOTE                                       0.98  0.89  0.24  0.93  0.46   \n",
       "SMOTEENN                                    0.98  0.92  0.34  0.95  0.56   \n",
       "Random Forest                               0.99  0.80  0.76  0.88  0.78   \n",
       "Random Forest w/ Easy Ensemble Classifier   0.99  0.64  0.69  0.78  0.67   \n",
       "\n",
       "                                             iba     sup  BA_Score  \\\n",
       "Naive Random Oversampling                   0.45  1037.0      0.67   \n",
       "Cluster Centroids Undersampling             0.35  1037.0      0.66   \n",
       "SMOTE                                       0.23  1037.0      0.57   \n",
       "SMOTEENN                                    0.33  1037.0      0.63   \n",
       "Random Forest                               0.61  1037.0      0.78   \n",
       "Random Forest w/ Easy Ensemble Classifier   0.44  1037.0      0.67   \n",
       "\n",
       "                                                  Confusion Matrix  \n",
       "Naive Random Oversampling                   [[18, 11], [290, 747]]  \n",
       "Cluster Centroids Undersampling              [[27, 2], [629, 408]]  \n",
       "SMOTE                                        [[7, 22], [113, 924]]  \n",
       "SMOTEENN                                     [[10, 19], [88, 949]]  \n",
       "Random Forest                                [[22, 7], [210, 827]]  \n",
       "Random Forest w/ Easy Ensemble Classifier    [[20, 9], [370, 667]]  "
      ]
     },
     "execution_count": 51,
     "metadata": {},
     "output_type": "execute_result"
    }
   ],
   "source": [
    "#Add BAS and CM lists to the summary Dataframe\n",
    "summary_df[\"BA_Score\"] = BA_Score\n",
    "summary_df[\"BA_Score\"] = summary_df[\"BA_Score\"].round(decimals=2)\n",
    "summary_df[\"Confusion Matrix\"] = cm_list\n",
    "\n",
    "summary_df"
   ]
  },
  {
   "cell_type": "code",
   "execution_count": 52,
   "id": "635f372f",
   "metadata": {},
   "outputs": [
    {
     "data": {
      "text/html": [
       "<div>\n",
       "<style scoped>\n",
       "    .dataframe tbody tr th:only-of-type {\n",
       "        vertical-align: middle;\n",
       "    }\n",
       "\n",
       "    .dataframe tbody tr th {\n",
       "        vertical-align: top;\n",
       "    }\n",
       "\n",
       "    .dataframe thead th {\n",
       "        text-align: right;\n",
       "    }\n",
       "</style>\n",
       "<table border=\"1\" class=\"dataframe\">\n",
       "  <thead>\n",
       "    <tr style=\"text-align: right;\">\n",
       "      <th></th>\n",
       "      <th>BA_Score</th>\n",
       "      <th>Confusion Matrix</th>\n",
       "      <th>pre</th>\n",
       "      <th>rec</th>\n",
       "      <th>spe</th>\n",
       "      <th>f1</th>\n",
       "    </tr>\n",
       "  </thead>\n",
       "  <tbody>\n",
       "    <tr>\n",
       "      <th>Naive Random Oversampling</th>\n",
       "      <td>0.67</td>\n",
       "      <td>[[18, 11], [290, 747]]</td>\n",
       "      <td>0.99</td>\n",
       "      <td>0.72</td>\n",
       "      <td>0.62</td>\n",
       "      <td>0.83</td>\n",
       "    </tr>\n",
       "    <tr>\n",
       "      <th>Cluster Centroids Undersampling</th>\n",
       "      <td>0.66</td>\n",
       "      <td>[[27, 2], [629, 408]]</td>\n",
       "      <td>1.00</td>\n",
       "      <td>0.39</td>\n",
       "      <td>0.93</td>\n",
       "      <td>0.56</td>\n",
       "    </tr>\n",
       "    <tr>\n",
       "      <th>SMOTE</th>\n",
       "      <td>0.57</td>\n",
       "      <td>[[7, 22], [113, 924]]</td>\n",
       "      <td>0.98</td>\n",
       "      <td>0.89</td>\n",
       "      <td>0.24</td>\n",
       "      <td>0.93</td>\n",
       "    </tr>\n",
       "    <tr>\n",
       "      <th>SMOTEENN</th>\n",
       "      <td>0.63</td>\n",
       "      <td>[[10, 19], [88, 949]]</td>\n",
       "      <td>0.98</td>\n",
       "      <td>0.92</td>\n",
       "      <td>0.34</td>\n",
       "      <td>0.95</td>\n",
       "    </tr>\n",
       "    <tr>\n",
       "      <th>Random Forest</th>\n",
       "      <td>0.78</td>\n",
       "      <td>[[22, 7], [210, 827]]</td>\n",
       "      <td>0.99</td>\n",
       "      <td>0.80</td>\n",
       "      <td>0.76</td>\n",
       "      <td>0.88</td>\n",
       "    </tr>\n",
       "    <tr>\n",
       "      <th>Random Forest w/ Easy Ensemble Classifier</th>\n",
       "      <td>0.67</td>\n",
       "      <td>[[20, 9], [370, 667]]</td>\n",
       "      <td>0.99</td>\n",
       "      <td>0.64</td>\n",
       "      <td>0.69</td>\n",
       "      <td>0.78</td>\n",
       "    </tr>\n",
       "  </tbody>\n",
       "</table>\n",
       "</div>"
      ],
      "text/plain": [
       "                                            BA_Score        Confusion Matrix  \\\n",
       "Naive Random Oversampling                       0.67  [[18, 11], [290, 747]]   \n",
       "Cluster Centroids Undersampling                 0.66   [[27, 2], [629, 408]]   \n",
       "SMOTE                                           0.57   [[7, 22], [113, 924]]   \n",
       "SMOTEENN                                        0.63   [[10, 19], [88, 949]]   \n",
       "Random Forest                                   0.78   [[22, 7], [210, 827]]   \n",
       "Random Forest w/ Easy Ensemble Classifier       0.67   [[20, 9], [370, 667]]   \n",
       "\n",
       "                                             pre   rec   spe    f1  \n",
       "Naive Random Oversampling                   0.99  0.72  0.62  0.83  \n",
       "Cluster Centroids Undersampling             1.00  0.39  0.93  0.56  \n",
       "SMOTE                                       0.98  0.89  0.24  0.93  \n",
       "SMOTEENN                                    0.98  0.92  0.34  0.95  \n",
       "Random Forest                               0.99  0.80  0.76  0.88  \n",
       "Random Forest w/ Easy Ensemble Classifier   0.99  0.64  0.69  0.78  "
      ]
     },
     "execution_count": 52,
     "metadata": {},
     "output_type": "execute_result"
    }
   ],
   "source": [
    "#drop unneccessary columns\n",
    "summary_df.drop(columns=[\"geo\",\"iba\",\"sup\"],inplace=True)\n",
    "\n",
    "#reorder the columns of the Summary df \n",
    "cols = summary_df.columns.tolist()\n",
    "cols = cols[-2:] + cols[:-2]\n",
    "summary_df = summary_df[cols]\n",
    "\n",
    "summary_df"
   ]
  },
  {
   "cell_type": "code",
   "execution_count": 53,
   "id": "8302719c",
   "metadata": {},
   "outputs": [],
   "source": [
    "#export csvs\n",
    "summary_df.to_csv(\"summary.csv\")\n",
    "features_df.to_csv(\"features.csv\")"
   ]
  },
  {
   "cell_type": "code",
   "execution_count": null,
   "id": "f455b2d7",
   "metadata": {},
   "outputs": [],
   "source": []
  }
 ],
 "metadata": {
  "kernelspec": {
   "display_name": "mlenv",
   "language": "python",
   "name": "mlenv"
  },
  "language_info": {
   "codemirror_mode": {
    "name": "ipython",
    "version": 3
   },
   "file_extension": ".py",
   "mimetype": "text/x-python",
   "name": "python",
   "nbconvert_exporter": "python",
   "pygments_lexer": "ipython3",
   "version": "3.7.10"
  }
 },
 "nbformat": 4,
 "nbformat_minor": 5
}
