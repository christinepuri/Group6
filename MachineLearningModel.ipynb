{
 "cells": [
  {
   "cell_type": "code",
   "execution_count": 1,
   "id": "ed486d1c",
   "metadata": {},
   "outputs": [],
   "source": [
    "import warnings\n",
    "warnings.filterwarnings('ignore')"
   ]
  },
  {
   "cell_type": "code",
   "execution_count": 2,
   "id": "0a75cd34",
   "metadata": {},
   "outputs": [],
   "source": [
    "import numpy as np\n",
    "import pandas as pd\n",
    "from pathlib import Path\n",
    "from collections import Counter"
   ]
  },
  {
   "cell_type": "markdown",
   "id": "3bd955cc",
   "metadata": {},
   "source": [
    "## Import the cleansed dataset and use Feature selection to identify dummy/target values"
   ]
  },
  {
   "cell_type": "code",
   "execution_count": 3,
   "id": "99e1e52b",
   "metadata": {},
   "outputs": [
    {
     "data": {
      "text/html": [
       "<div>\n",
       "<style scoped>\n",
       "    .dataframe tbody tr th:only-of-type {\n",
       "        vertical-align: middle;\n",
       "    }\n",
       "\n",
       "    .dataframe tbody tr th {\n",
       "        vertical-align: top;\n",
       "    }\n",
       "\n",
       "    .dataframe thead th {\n",
       "        text-align: right;\n",
       "    }\n",
       "</style>\n",
       "<table border=\"1\" class=\"dataframe\">\n",
       "  <thead>\n",
       "    <tr style=\"text-align: right;\">\n",
       "      <th></th>\n",
       "      <th>budget</th>\n",
       "      <th>release_year</th>\n",
       "      <th>revenue</th>\n",
       "      <th>runtime</th>\n",
       "      <th>title</th>\n",
       "      <th>genres</th>\n",
       "      <th>nominated</th>\n",
       "      <th>winner</th>\n",
       "      <th>category</th>\n",
       "    </tr>\n",
       "  </thead>\n",
       "  <tbody>\n",
       "    <tr>\n",
       "      <th>0</th>\n",
       "      <td>22000000</td>\n",
       "      <td>2003</td>\n",
       "      <td>95708457</td>\n",
       "      <td>121</td>\n",
       "      <td>Underworld</td>\n",
       "      <td>Fantasy</td>\n",
       "      <td>1</td>\n",
       "      <td>1.0</td>\n",
       "      <td>WRITING</td>\n",
       "    </tr>\n",
       "    <tr>\n",
       "      <th>1</th>\n",
       "      <td>110000000</td>\n",
       "      <td>2000</td>\n",
       "      <td>215294342</td>\n",
       "      <td>165</td>\n",
       "      <td>The Patriot</td>\n",
       "      <td>Drama</td>\n",
       "      <td>1</td>\n",
       "      <td>0.0</td>\n",
       "      <td>ACTOR</td>\n",
       "    </tr>\n",
       "    <tr>\n",
       "      <th>2</th>\n",
       "      <td>379000</td>\n",
       "      <td>1929</td>\n",
       "      <td>4358000</td>\n",
       "      <td>100</td>\n",
       "      <td>The Broadway Melody</td>\n",
       "      <td>Drama</td>\n",
       "      <td>1</td>\n",
       "      <td>0.0</td>\n",
       "      <td>ACTRESS</td>\n",
       "    </tr>\n",
       "    <tr>\n",
       "      <th>3</th>\n",
       "      <td>110000000</td>\n",
       "      <td>2000</td>\n",
       "      <td>215294342</td>\n",
       "      <td>165</td>\n",
       "      <td>The Patriot</td>\n",
       "      <td>Drama</td>\n",
       "      <td>1</td>\n",
       "      <td>0.0</td>\n",
       "      <td>ART DIRECTION</td>\n",
       "    </tr>\n",
       "    <tr>\n",
       "      <th>4</th>\n",
       "      <td>379000</td>\n",
       "      <td>1929</td>\n",
       "      <td>4358000</td>\n",
       "      <td>100</td>\n",
       "      <td>The Broadway Melody</td>\n",
       "      <td>Drama</td>\n",
       "      <td>1</td>\n",
       "      <td>0.0</td>\n",
       "      <td>DIRECTING</td>\n",
       "    </tr>\n",
       "    <tr>\n",
       "      <th>...</th>\n",
       "      <td>...</td>\n",
       "      <td>...</td>\n",
       "      <td>...</td>\n",
       "      <td>...</td>\n",
       "      <td>...</td>\n",
       "      <td>...</td>\n",
       "      <td>...</td>\n",
       "      <td>...</td>\n",
       "      <td>...</td>\n",
       "    </tr>\n",
       "    <tr>\n",
       "      <th>8416</th>\n",
       "      <td>250000</td>\n",
       "      <td>1918</td>\n",
       "      <td>8000000</td>\n",
       "      <td>93</td>\n",
       "      <td>Mickey</td>\n",
       "      <td>Comedy</td>\n",
       "      <td>0</td>\n",
       "      <td>NaN</td>\n",
       "      <td>NaN</td>\n",
       "    </tr>\n",
       "    <tr>\n",
       "      <th>8417</th>\n",
       "      <td>165000000</td>\n",
       "      <td>2010</td>\n",
       "      <td>752600867</td>\n",
       "      <td>93</td>\n",
       "      <td>Shrek Forever After</td>\n",
       "      <td>Comedy</td>\n",
       "      <td>0</td>\n",
       "      <td>NaN</td>\n",
       "      <td>NaN</td>\n",
       "    </tr>\n",
       "    <tr>\n",
       "      <th>8418</th>\n",
       "      <td>6000000</td>\n",
       "      <td>2004</td>\n",
       "      <td>293793</td>\n",
       "      <td>90</td>\n",
       "      <td>Mickey</td>\n",
       "      <td>Drama</td>\n",
       "      <td>0</td>\n",
       "      <td>NaN</td>\n",
       "      <td>NaN</td>\n",
       "    </tr>\n",
       "    <tr>\n",
       "      <th>8419</th>\n",
       "      <td>6500000</td>\n",
       "      <td>1991</td>\n",
       "      <td>57504069</td>\n",
       "      <td>112</td>\n",
       "      <td>Boyz n the Hood</td>\n",
       "      <td>Crime</td>\n",
       "      <td>1</td>\n",
       "      <td>NaN</td>\n",
       "      <td>NaN</td>\n",
       "    </tr>\n",
       "    <tr>\n",
       "      <th>8420</th>\n",
       "      <td>20000000</td>\n",
       "      <td>1995</td>\n",
       "      <td>50012507</td>\n",
       "      <td>103</td>\n",
       "      <td>A Walk in the Clouds</td>\n",
       "      <td>Drama</td>\n",
       "      <td>0</td>\n",
       "      <td>NaN</td>\n",
       "      <td>NaN</td>\n",
       "    </tr>\n",
       "  </tbody>\n",
       "</table>\n",
       "<p>8421 rows × 9 columns</p>\n",
       "</div>"
      ],
      "text/plain": [
       "         budget  release_year    revenue  runtime                 title  \\\n",
       "0      22000000          2003   95708457      121            Underworld   \n",
       "1     110000000          2000  215294342      165           The Patriot   \n",
       "2        379000          1929    4358000      100   The Broadway Melody   \n",
       "3     110000000          2000  215294342      165           The Patriot   \n",
       "4        379000          1929    4358000      100   The Broadway Melody   \n",
       "...         ...           ...        ...      ...                   ...   \n",
       "8416     250000          1918    8000000       93                Mickey   \n",
       "8417  165000000          2010  752600867       93   Shrek Forever After   \n",
       "8418    6000000          2004     293793       90                Mickey   \n",
       "8419    6500000          1991   57504069      112       Boyz n the Hood   \n",
       "8420   20000000          1995   50012507      103  A Walk in the Clouds   \n",
       "\n",
       "       genres  nominated  winner       category  \n",
       "0     Fantasy          1     1.0       WRITING   \n",
       "1       Drama          1     0.0          ACTOR  \n",
       "2       Drama          1     0.0        ACTRESS  \n",
       "3       Drama          1     0.0  ART DIRECTION  \n",
       "4       Drama          1     0.0      DIRECTING  \n",
       "...       ...        ...     ...            ...  \n",
       "8416   Comedy          0     NaN            NaN  \n",
       "8417   Comedy          0     NaN            NaN  \n",
       "8418    Drama          0     NaN            NaN  \n",
       "8419    Crime          1     NaN            NaN  \n",
       "8420    Drama          0     NaN            NaN  \n",
       "\n",
       "[8421 rows x 9 columns]"
      ]
     },
     "execution_count": 3,
     "metadata": {},
     "output_type": "execute_result"
    }
   ],
   "source": [
    "## Read cleansed/combined table\n",
    "\n",
    "file_path = \"combined_table.csv\"\n",
    "oscars_df = pd.read_csv(file_path)\n",
    "oscars_df"
   ]
  },
  {
   "cell_type": "code",
   "execution_count": 4,
   "id": "ee92b36b",
   "metadata": {},
   "outputs": [
    {
     "data": {
      "text/plain": [
       "budget            int64\n",
       "release_year      int64\n",
       "revenue           int64\n",
       "runtime           int64\n",
       "title            object\n",
       "genres           object\n",
       "nominated         int64\n",
       "winner          float64\n",
       "category         object\n",
       "dtype: object"
      ]
     },
     "execution_count": 4,
     "metadata": {},
     "output_type": "execute_result"
    }
   ],
   "source": [
    "oscars_df.dtypes"
   ]
  },
  {
   "cell_type": "code",
   "execution_count": 5,
   "id": "a0ffaafe",
   "metadata": {},
   "outputs": [],
   "source": [
    "# drop unecessary columns\n",
    "X = pd.get_dummies(oscars_df, columns=[\"genres\",\"category\"]).drop([\"budget\",\"release_year\",\"revenue\",\"title\",\"winner\",\"nominated\"], axis=1)\n",
    "\n",
    "## Using the binary outcome \"nominated\" to create our target value\n",
    "y = oscars_df[\"nominated\"]\n"
   ]
  },
  {
   "cell_type": "code",
   "execution_count": 6,
   "id": "0af09c82",
   "metadata": {},
   "outputs": [
    {
     "data": {
      "text/plain": [
       "0    4255\n",
       "1    4166\n",
       "Name: nominated, dtype: int64"
      ]
     },
     "execution_count": 6,
     "metadata": {},
     "output_type": "execute_result"
    }
   ],
   "source": [
    "# Check the balance of our target values\n",
    "y.value_counts()"
   ]
  },
  {
   "cell_type": "markdown",
   "id": "254d2eae",
   "metadata": {},
   "source": [
    "## Split training/test data using the train_test_split model from sklearn"
   ]
  },
  {
   "cell_type": "code",
   "execution_count": 7,
   "id": "795b80f5",
   "metadata": {},
   "outputs": [],
   "source": [
    "from sklearn.model_selection import train_test_split\n",
    "X_train, X_test, y_train, y_test = train_test_split(X, y, random_state=1, stratify=y)"
   ]
  },
  {
   "cell_type": "markdown",
   "id": "d230ba37",
   "metadata": {},
   "source": [
    "## Naive RandomOverSampler Model"
   ]
  },
  {
   "cell_type": "code",
   "execution_count": 8,
   "id": "0dcc32cc",
   "metadata": {},
   "outputs": [
    {
     "data": {
      "text/plain": [
       "Counter({1: 3191, 0: 3191})"
      ]
     },
     "execution_count": 8,
     "metadata": {},
     "output_type": "execute_result"
    }
   ],
   "source": [
    "# Resample the training data with the RandomOversampler\n",
    "from imblearn.over_sampling import RandomOverSampler\n",
    "\n",
    "ros = RandomOverSampler(random_state=1)\n",
    "X_resampled, y_resampled = ros.fit_resample(X_train, y_train)\n",
    "Counter(y_resampled)"
   ]
  },
  {
   "cell_type": "code",
   "execution_count": 9,
   "id": "3956b487",
   "metadata": {},
   "outputs": [
    {
     "data": {
      "text/plain": [
       "LogisticRegression(random_state=1)"
      ]
     },
     "execution_count": 9,
     "metadata": {},
     "output_type": "execute_result"
    }
   ],
   "source": [
    "# Train the Logistic Regression model using the resampled data\n",
    "from sklearn.linear_model import LogisticRegression\n",
    "\n",
    "model = LogisticRegression(solver='lbfgs', random_state=1)\n",
    "model.fit(X_resampled, y_resampled)"
   ]
  },
  {
   "cell_type": "code",
   "execution_count": 10,
   "id": "8de4de47",
   "metadata": {},
   "outputs": [],
   "source": [
    "# Calculated the balanced accuracy score\n",
    "from sklearn.metrics import balanced_accuracy_score\n",
    "\n",
    "y_pred = model.predict(X_test)\n",
    "balanced_accuracy_score(y_test, y_pred)\n",
    "\n",
    "## Initialize Balance Accuracy Score to store in list when aggregating summaries\n",
    "BA_Score = []\n",
    "BA_Score.append(balanced_accuracy_score(y_test, y_pred))"
   ]
  },
  {
   "cell_type": "code",
   "execution_count": 11,
   "id": "3c60b7e4",
   "metadata": {},
   "outputs": [
    {
     "data": {
      "text/plain": [
       "array([[1036,   28],\n",
       "       [  39, 1003]], dtype=int64)"
      ]
     },
     "execution_count": 11,
     "metadata": {},
     "output_type": "execute_result"
    }
   ],
   "source": [
    "# Display the confusion matrix\n",
    "from sklearn.metrics import confusion_matrix\n",
    "\n",
    "confusion_matrix(y_test, y_pred)"
   ]
  },
  {
   "cell_type": "code",
   "execution_count": 12,
   "id": "7c33e755",
   "metadata": {},
   "outputs": [],
   "source": [
    "## Initialize the confusion matrix to store in list when aggregating\n",
    "cm_list=[]\n",
    "cm_list.append(confusion_matrix(y_test, y_pred))"
   ]
  },
  {
   "cell_type": "code",
   "execution_count": 13,
   "id": "4845d675",
   "metadata": {},
   "outputs": [
    {
     "name": "stdout",
     "output_type": "stream",
     "text": [
      "                   pre       rec       spe        f1       geo       iba       sup\n",
      "\n",
      "          0       0.96      0.97      0.96      0.97      0.97      0.94      1064\n",
      "          1       0.97      0.96      0.97      0.97      0.97      0.94      1042\n",
      "\n",
      "avg / total       0.97      0.97      0.97      0.97      0.97      0.94      2106\n",
      "\n"
     ]
    }
   ],
   "source": [
    "## Print imbalanced classification report\n",
    "from imblearn.metrics import classification_report_imbalanced\n",
    "print(classification_report_imbalanced(y_test, y_pred))"
   ]
  },
  {
   "cell_type": "code",
   "execution_count": 14,
   "id": "86998200",
   "metadata": {},
   "outputs": [
    {
     "data": {
      "text/html": [
       "<div>\n",
       "<style scoped>\n",
       "    .dataframe tbody tr th:only-of-type {\n",
       "        vertical-align: middle;\n",
       "    }\n",
       "\n",
       "    .dataframe tbody tr th {\n",
       "        vertical-align: top;\n",
       "    }\n",
       "\n",
       "    .dataframe thead th {\n",
       "        text-align: right;\n",
       "    }\n",
       "</style>\n",
       "<table border=\"1\" class=\"dataframe\">\n",
       "  <thead>\n",
       "    <tr style=\"text-align: right;\">\n",
       "      <th></th>\n",
       "      <th>pre</th>\n",
       "      <th>rec</th>\n",
       "      <th>spe</th>\n",
       "      <th>f1</th>\n",
       "      <th>geo</th>\n",
       "      <th>iba</th>\n",
       "      <th>sup</th>\n",
       "    </tr>\n",
       "  </thead>\n",
       "  <tbody>\n",
       "  </tbody>\n",
       "</table>\n",
       "</div>"
      ],
      "text/plain": [
       "Empty DataFrame\n",
       "Columns: [pre, rec, spe, f1, geo, iba, sup]\n",
       "Index: []"
      ]
     },
     "execution_count": 14,
     "metadata": {},
     "output_type": "execute_result"
    }
   ],
   "source": [
    "## Establish summary dataframe\n",
    "summary_df = pd.DataFrame(columns=['pre', 'rec', 'spe', 'f1', 'geo', 'iba', 'sup'])\n",
    "summary_df"
   ]
  },
  {
   "cell_type": "code",
   "execution_count": 15,
   "id": "c15361e3",
   "metadata": {},
   "outputs": [
    {
     "data": {
      "text/html": [
       "<div>\n",
       "<style scoped>\n",
       "    .dataframe tbody tr th:only-of-type {\n",
       "        vertical-align: middle;\n",
       "    }\n",
       "\n",
       "    .dataframe tbody tr th {\n",
       "        vertical-align: top;\n",
       "    }\n",
       "\n",
       "    .dataframe thead th {\n",
       "        text-align: right;\n",
       "    }\n",
       "</style>\n",
       "<table border=\"1\" class=\"dataframe\">\n",
       "  <thead>\n",
       "    <tr style=\"text-align: right;\">\n",
       "      <th></th>\n",
       "      <th>pre</th>\n",
       "      <th>rec</th>\n",
       "      <th>spe</th>\n",
       "      <th>f1</th>\n",
       "      <th>geo</th>\n",
       "      <th>iba</th>\n",
       "      <th>sup</th>\n",
       "    </tr>\n",
       "  </thead>\n",
       "  <tbody>\n",
       "    <tr>\n",
       "      <th>Naive Random Oversampling</th>\n",
       "      <td>0.97</td>\n",
       "      <td>0.96</td>\n",
       "      <td>0.97</td>\n",
       "      <td>0.97</td>\n",
       "      <td>0.97</td>\n",
       "      <td>0.94</td>\n",
       "      <td>1042.0</td>\n",
       "    </tr>\n",
       "  </tbody>\n",
       "</table>\n",
       "</div>"
      ],
      "text/plain": [
       "                            pre   rec   spe    f1   geo   iba     sup\n",
       "Naive Random Oversampling  0.97  0.96  0.97  0.97  0.97  0.94  1042.0"
      ]
     },
     "execution_count": 15,
     "metadata": {},
     "output_type": "execute_result"
    }
   ],
   "source": [
    "#Add classification report to the summary table \n",
    "name = 'Naive Random Oversampling'\n",
    "class_dict= classification_report_imbalanced(y_test, y_pred,output_dict=True)\n",
    "class_df= pd.DataFrame(class_dict).round(decimals=2)\n",
    "summary_df = summary_df.append(class_df[1])\n",
    "summary_df.rename(index={1:name},inplace=True)\n",
    "\n",
    "summary_df"
   ]
  },
  {
   "cell_type": "markdown",
   "id": "d09a7ab0",
   "metadata": {},
   "source": [
    "## Cluster Centroids Undersampling"
   ]
  },
  {
   "cell_type": "code",
   "execution_count": 16,
   "id": "391475a6",
   "metadata": {},
   "outputs": [
    {
     "data": {
      "text/plain": [
       "Counter({0: 3124, 1: 3124})"
      ]
     },
     "execution_count": 16,
     "metadata": {},
     "output_type": "execute_result"
    }
   ],
   "source": [
    "# Resample the data using the ClusterCentroids resampler\n",
    "# Warning: This is a large dataset, and this step may take some time to complete\n",
    "from imblearn.under_sampling import ClusterCentroids\n",
    "ccus = ClusterCentroids(random_state=1)\n",
    "X_resampled, y_resampled = ccus.fit_resample(X_train, y_train)\n",
    "Counter(y_resampled)"
   ]
  },
  {
   "cell_type": "code",
   "execution_count": 17,
   "id": "97539501",
   "metadata": {},
   "outputs": [
    {
     "data": {
      "text/plain": [
       "LogisticRegression(random_state=1)"
      ]
     },
     "execution_count": 17,
     "metadata": {},
     "output_type": "execute_result"
    }
   ],
   "source": [
    "# Train the Logistic Regression model using the resampled data\n",
    "model = LogisticRegression(solver='lbfgs', random_state=1)\n",
    "model.fit(X_resampled, y_resampled)"
   ]
  },
  {
   "cell_type": "code",
   "execution_count": 18,
   "id": "31bd0582",
   "metadata": {},
   "outputs": [
    {
     "data": {
      "text/plain": [
       "0.9700574011804944"
      ]
     },
     "execution_count": 18,
     "metadata": {},
     "output_type": "execute_result"
    }
   ],
   "source": [
    "# Calculated the balanced accuracy score\n",
    "y_pred = model.predict(X_test)\n",
    "BA_Score.append(balanced_accuracy_score(y_test, y_pred))\n",
    "balanced_accuracy_score(y_test, y_pred)"
   ]
  },
  {
   "cell_type": "code",
   "execution_count": 19,
   "id": "b3efc700",
   "metadata": {},
   "outputs": [
    {
     "data": {
      "text/plain": [
       "array([[1035,   29],\n",
       "       [  34, 1008]], dtype=int64)"
      ]
     },
     "execution_count": 19,
     "metadata": {},
     "output_type": "execute_result"
    }
   ],
   "source": [
    "# Display the confusion matrix\n",
    "confusion_matrix(y_test, y_pred)"
   ]
  },
  {
   "cell_type": "code",
   "execution_count": 20,
   "id": "6679717e",
   "metadata": {},
   "outputs": [],
   "source": [
    "# Add confusion matrix to confusion matrix list\n",
    "cm_list.append(confusion_matrix(y_test, y_pred))"
   ]
  },
  {
   "cell_type": "code",
   "execution_count": 21,
   "id": "2c5aa0c2",
   "metadata": {},
   "outputs": [
    {
     "name": "stdout",
     "output_type": "stream",
     "text": [
      "                   pre       rec       spe        f1       geo       iba       sup\n",
      "\n",
      "          0       0.97      0.97      0.97      0.97      0.97      0.94      1064\n",
      "          1       0.97      0.97      0.97      0.97      0.97      0.94      1042\n",
      "\n",
      "avg / total       0.97      0.97      0.97      0.97      0.97      0.94      2106\n",
      "\n"
     ]
    }
   ],
   "source": [
    "## Print imbalanced classification report\n",
    "print(classification_report_imbalanced(y_test, y_pred))"
   ]
  },
  {
   "cell_type": "code",
   "execution_count": 22,
   "id": "83e95eec",
   "metadata": {},
   "outputs": [
    {
     "data": {
      "text/html": [
       "<div>\n",
       "<style scoped>\n",
       "    .dataframe tbody tr th:only-of-type {\n",
       "        vertical-align: middle;\n",
       "    }\n",
       "\n",
       "    .dataframe tbody tr th {\n",
       "        vertical-align: top;\n",
       "    }\n",
       "\n",
       "    .dataframe thead th {\n",
       "        text-align: right;\n",
       "    }\n",
       "</style>\n",
       "<table border=\"1\" class=\"dataframe\">\n",
       "  <thead>\n",
       "    <tr style=\"text-align: right;\">\n",
       "      <th></th>\n",
       "      <th>pre</th>\n",
       "      <th>rec</th>\n",
       "      <th>spe</th>\n",
       "      <th>f1</th>\n",
       "      <th>geo</th>\n",
       "      <th>iba</th>\n",
       "      <th>sup</th>\n",
       "    </tr>\n",
       "  </thead>\n",
       "  <tbody>\n",
       "    <tr>\n",
       "      <th>Naive Random Oversampling</th>\n",
       "      <td>0.97</td>\n",
       "      <td>0.96</td>\n",
       "      <td>0.97</td>\n",
       "      <td>0.97</td>\n",
       "      <td>0.97</td>\n",
       "      <td>0.94</td>\n",
       "      <td>1042.0</td>\n",
       "    </tr>\n",
       "    <tr>\n",
       "      <th>Cluster Centroids Undersampling</th>\n",
       "      <td>0.97</td>\n",
       "      <td>0.97</td>\n",
       "      <td>0.97</td>\n",
       "      <td>0.97</td>\n",
       "      <td>0.97</td>\n",
       "      <td>0.94</td>\n",
       "      <td>1042.0</td>\n",
       "    </tr>\n",
       "  </tbody>\n",
       "</table>\n",
       "</div>"
      ],
      "text/plain": [
       "                                  pre   rec   spe    f1   geo   iba     sup\n",
       "Naive Random Oversampling        0.97  0.96  0.97  0.97  0.97  0.94  1042.0\n",
       "Cluster Centroids Undersampling  0.97  0.97  0.97  0.97  0.97  0.94  1042.0"
      ]
     },
     "execution_count": 22,
     "metadata": {},
     "output_type": "execute_result"
    }
   ],
   "source": [
    "#Add classification report to summary table \n",
    "name = 'Cluster Centroids Undersampling'\n",
    "class_dict= classification_report_imbalanced(y_test, y_pred,output_dict=True)\n",
    "class_df= pd.DataFrame(class_dict).round(decimals=2)\n",
    "summary_df = summary_df.append(class_df[1])\n",
    "summary_df.rename(index={1:name},inplace=True)\n",
    "summary_df"
   ]
  },
  {
   "cell_type": "markdown",
   "id": "da71c660",
   "metadata": {},
   "source": [
    "## SMOTE Oversampling"
   ]
  },
  {
   "cell_type": "code",
   "execution_count": 23,
   "id": "eb7e6e05",
   "metadata": {},
   "outputs": [
    {
     "data": {
      "text/plain": [
       "Counter({1: 3191, 0: 3191})"
      ]
     },
     "execution_count": 23,
     "metadata": {},
     "output_type": "execute_result"
    }
   ],
   "source": [
    "# Resample the training data with SMOTE\n",
    "from imblearn.over_sampling import SMOTE\n",
    "\n",
    "X_resampled, y_resampled = SMOTE(random_state=1, sampling_strategy=1.0).fit_resample(\n",
    "    X_train, y_train\n",
    ")\n",
    "from collections import Counter\n",
    "\n",
    "Counter(y_resampled)"
   ]
  },
  {
   "cell_type": "code",
   "execution_count": 24,
   "id": "598e92f6",
   "metadata": {},
   "outputs": [
    {
     "data": {
      "text/plain": [
       "LogisticRegression(random_state=1)"
      ]
     },
     "execution_count": 24,
     "metadata": {},
     "output_type": "execute_result"
    }
   ],
   "source": [
    "# Train the Logistic Regression model using the resampled data\n",
    "model = LogisticRegression(solver='lbfgs', random_state=1)\n",
    "model.fit(X_resampled, y_resampled)"
   ]
  },
  {
   "cell_type": "code",
   "execution_count": 25,
   "id": "b3cbe1e1",
   "metadata": {},
   "outputs": [
    {
     "data": {
      "text/plain": [
       "0.9633296292554804"
      ]
     },
     "execution_count": 25,
     "metadata": {},
     "output_type": "execute_result"
    }
   ],
   "source": [
    "# Calculated the balanced accuracy score\n",
    "y_pred = model.predict(X_test)\n",
    "BA_Score.append(balanced_accuracy_score(y_test, y_pred))\n",
    "balanced_accuracy_score(y_test, y_pred)"
   ]
  },
  {
   "cell_type": "code",
   "execution_count": 26,
   "id": "ed97dbb1",
   "metadata": {},
   "outputs": [
    {
     "data": {
      "text/plain": [
       "array([[1036,   28],\n",
       "       [  49,  993]], dtype=int64)"
      ]
     },
     "execution_count": 26,
     "metadata": {},
     "output_type": "execute_result"
    }
   ],
   "source": [
    "# Display the SMTOE confusion matrix\n",
    "confusion_matrix(y_test, y_pred)"
   ]
  },
  {
   "cell_type": "code",
   "execution_count": 27,
   "id": "ab6780f6",
   "metadata": {},
   "outputs": [],
   "source": [
    "# Add SMOTE confusion matrix to a list\n",
    "cm_list.append(confusion_matrix(y_test, y_pred))"
   ]
  },
  {
   "cell_type": "code",
   "execution_count": 28,
   "id": "cfddd8f1",
   "metadata": {},
   "outputs": [
    {
     "name": "stdout",
     "output_type": "stream",
     "text": [
      "                   pre       rec       spe        f1       geo       iba       sup\n",
      "\n",
      "          0       0.95      0.97      0.95      0.96      0.96      0.93      1064\n",
      "          1       0.97      0.95      0.97      0.96      0.96      0.93      1042\n",
      "\n",
      "avg / total       0.96      0.96      0.96      0.96      0.96      0.93      2106\n",
      "\n"
     ]
    }
   ],
   "source": [
    "## Print imbalanced classification report\n",
    "print(classification_report_imbalanced(y_test, y_pred))"
   ]
  },
  {
   "cell_type": "code",
   "execution_count": 29,
   "id": "3767cc4e",
   "metadata": {},
   "outputs": [
    {
     "data": {
      "text/html": [
       "<div>\n",
       "<style scoped>\n",
       "    .dataframe tbody tr th:only-of-type {\n",
       "        vertical-align: middle;\n",
       "    }\n",
       "\n",
       "    .dataframe tbody tr th {\n",
       "        vertical-align: top;\n",
       "    }\n",
       "\n",
       "    .dataframe thead th {\n",
       "        text-align: right;\n",
       "    }\n",
       "</style>\n",
       "<table border=\"1\" class=\"dataframe\">\n",
       "  <thead>\n",
       "    <tr style=\"text-align: right;\">\n",
       "      <th></th>\n",
       "      <th>pre</th>\n",
       "      <th>rec</th>\n",
       "      <th>spe</th>\n",
       "      <th>f1</th>\n",
       "      <th>geo</th>\n",
       "      <th>iba</th>\n",
       "      <th>sup</th>\n",
       "    </tr>\n",
       "  </thead>\n",
       "  <tbody>\n",
       "    <tr>\n",
       "      <th>Naive Random Oversampling</th>\n",
       "      <td>0.97</td>\n",
       "      <td>0.96</td>\n",
       "      <td>0.97</td>\n",
       "      <td>0.97</td>\n",
       "      <td>0.97</td>\n",
       "      <td>0.94</td>\n",
       "      <td>1042.0</td>\n",
       "    </tr>\n",
       "    <tr>\n",
       "      <th>Cluster Centroids Undersampling</th>\n",
       "      <td>0.97</td>\n",
       "      <td>0.97</td>\n",
       "      <td>0.97</td>\n",
       "      <td>0.97</td>\n",
       "      <td>0.97</td>\n",
       "      <td>0.94</td>\n",
       "      <td>1042.0</td>\n",
       "    </tr>\n",
       "    <tr>\n",
       "      <th>SMOTE</th>\n",
       "      <td>0.97</td>\n",
       "      <td>0.95</td>\n",
       "      <td>0.97</td>\n",
       "      <td>0.96</td>\n",
       "      <td>0.96</td>\n",
       "      <td>0.93</td>\n",
       "      <td>1042.0</td>\n",
       "    </tr>\n",
       "  </tbody>\n",
       "</table>\n",
       "</div>"
      ],
      "text/plain": [
       "                                  pre   rec   spe    f1   geo   iba     sup\n",
       "Naive Random Oversampling        0.97  0.96  0.97  0.97  0.97  0.94  1042.0\n",
       "Cluster Centroids Undersampling  0.97  0.97  0.97  0.97  0.97  0.94  1042.0\n",
       "SMOTE                            0.97  0.95  0.97  0.96  0.96  0.93  1042.0"
      ]
     },
     "execution_count": 29,
     "metadata": {},
     "output_type": "execute_result"
    }
   ],
   "source": [
    "#Add classification report to summary table \n",
    "name = 'SMOTE'\n",
    "class_dict= classification_report_imbalanced(y_test, y_pred,output_dict=True)\n",
    "class_df= pd.DataFrame(class_dict).round(decimals=2)\n",
    "summary_df = summary_df.append(class_df[1])\n",
    "summary_df.rename(index={1:name},inplace=True)\n",
    "summary_df"
   ]
  },
  {
   "cell_type": "markdown",
   "id": "3cb6dccd",
   "metadata": {},
   "source": [
    "## Combination (Over and Under) Sampling"
   ]
  },
  {
   "cell_type": "code",
   "execution_count": 31,
   "id": "00cb00f7",
   "metadata": {},
   "outputs": [
    {
     "data": {
      "text/plain": [
       "Counter({0: 3797, 1: 1266})"
      ]
     },
     "execution_count": 31,
     "metadata": {},
     "output_type": "execute_result"
    }
   ],
   "source": [
    "# Resample the training data with SMOTEENN\n",
    "# Warning: This is a large dataset, and this step may take some time to complete\n",
    "from imblearn.combine import SMOTEENN\n",
    "sm = SMOTEENN(random_state=1)\n",
    "X_resampled, y_resampled = sm.fit_resample(X, y)\n",
    "Counter(y_resampled)"
   ]
  },
  {
   "cell_type": "code",
   "execution_count": 32,
   "id": "9591fb63",
   "metadata": {},
   "outputs": [
    {
     "data": {
      "text/plain": [
       "LogisticRegression(random_state=1)"
      ]
     },
     "execution_count": 32,
     "metadata": {},
     "output_type": "execute_result"
    }
   ],
   "source": [
    "# Train the Logistic Regression model using the resampled data\n",
    "model = LogisticRegression(solver='lbfgs', random_state=1)\n",
    "model.fit(X_resampled, y_resampled)"
   ]
  },
  {
   "cell_type": "code",
   "execution_count": 33,
   "id": "0d7443ac",
   "metadata": {},
   "outputs": [
    {
     "data": {
      "text/plain": [
       "0.8755078074264355"
      ]
     },
     "execution_count": 33,
     "metadata": {},
     "output_type": "execute_result"
    }
   ],
   "source": [
    "# Calculated the balanced accuracy score\n",
    "y_pred = model.predict(X_test)\n",
    "BA_Score.append(balanced_accuracy_score(y_test, y_pred))\n",
    "balanced_accuracy_score(y_test, y_pred)"
   ]
  },
  {
   "cell_type": "code",
   "execution_count": 34,
   "id": "b2a6fbcc",
   "metadata": {},
   "outputs": [
    {
     "data": {
      "text/plain": [
       "array([[1037,   27],\n",
       "       [ 233,  809]], dtype=int64)"
      ]
     },
     "execution_count": 34,
     "metadata": {},
     "output_type": "execute_result"
    }
   ],
   "source": [
    "# Display the SMTOE confusion matrix\n",
    "confusion_matrix(y_test, y_pred)"
   ]
  },
  {
   "cell_type": "code",
   "execution_count": 35,
   "id": "c5866b9f",
   "metadata": {},
   "outputs": [],
   "source": [
    "# Add SMOTE confusion matrix to a list\n",
    "cm_list.append(confusion_matrix(y_test, y_pred))"
   ]
  },
  {
   "cell_type": "code",
   "execution_count": 36,
   "id": "dbad2060",
   "metadata": {},
   "outputs": [
    {
     "data": {
      "text/html": [
       "<div>\n",
       "<style scoped>\n",
       "    .dataframe tbody tr th:only-of-type {\n",
       "        vertical-align: middle;\n",
       "    }\n",
       "\n",
       "    .dataframe tbody tr th {\n",
       "        vertical-align: top;\n",
       "    }\n",
       "\n",
       "    .dataframe thead th {\n",
       "        text-align: right;\n",
       "    }\n",
       "</style>\n",
       "<table border=\"1\" class=\"dataframe\">\n",
       "  <thead>\n",
       "    <tr style=\"text-align: right;\">\n",
       "      <th></th>\n",
       "      <th>pre</th>\n",
       "      <th>rec</th>\n",
       "      <th>spe</th>\n",
       "      <th>f1</th>\n",
       "      <th>geo</th>\n",
       "      <th>iba</th>\n",
       "      <th>sup</th>\n",
       "    </tr>\n",
       "  </thead>\n",
       "  <tbody>\n",
       "    <tr>\n",
       "      <th>Naive Random Oversampling</th>\n",
       "      <td>0.97</td>\n",
       "      <td>0.96</td>\n",
       "      <td>0.97</td>\n",
       "      <td>0.97</td>\n",
       "      <td>0.97</td>\n",
       "      <td>0.94</td>\n",
       "      <td>1042.0</td>\n",
       "    </tr>\n",
       "    <tr>\n",
       "      <th>Cluster Centroids Undersampling</th>\n",
       "      <td>0.97</td>\n",
       "      <td>0.97</td>\n",
       "      <td>0.97</td>\n",
       "      <td>0.97</td>\n",
       "      <td>0.97</td>\n",
       "      <td>0.94</td>\n",
       "      <td>1042.0</td>\n",
       "    </tr>\n",
       "    <tr>\n",
       "      <th>SMOTE</th>\n",
       "      <td>0.97</td>\n",
       "      <td>0.95</td>\n",
       "      <td>0.97</td>\n",
       "      <td>0.96</td>\n",
       "      <td>0.96</td>\n",
       "      <td>0.93</td>\n",
       "      <td>1042.0</td>\n",
       "    </tr>\n",
       "    <tr>\n",
       "      <th>SMOTEENN</th>\n",
       "      <td>0.97</td>\n",
       "      <td>0.78</td>\n",
       "      <td>0.97</td>\n",
       "      <td>0.86</td>\n",
       "      <td>0.87</td>\n",
       "      <td>0.74</td>\n",
       "      <td>1042.0</td>\n",
       "    </tr>\n",
       "  </tbody>\n",
       "</table>\n",
       "</div>"
      ],
      "text/plain": [
       "                                  pre   rec   spe    f1   geo   iba     sup\n",
       "Naive Random Oversampling        0.97  0.96  0.97  0.97  0.97  0.94  1042.0\n",
       "Cluster Centroids Undersampling  0.97  0.97  0.97  0.97  0.97  0.94  1042.0\n",
       "SMOTE                            0.97  0.95  0.97  0.96  0.96  0.93  1042.0\n",
       "SMOTEENN                         0.97  0.78  0.97  0.86  0.87  0.74  1042.0"
      ]
     },
     "execution_count": 36,
     "metadata": {},
     "output_type": "execute_result"
    }
   ],
   "source": [
    "#Add classification report to summary table \n",
    "name = 'SMOTEENN'\n",
    "class_dict= classification_report_imbalanced(y_test, y_pred,output_dict=True)\n",
    "class_df= pd.DataFrame(class_dict).round(decimals=2)\n",
    "summary_df = summary_df.append(class_df[1])\n",
    "summary_df.rename(index={1:name},inplace=True)\n",
    "summary_df"
   ]
  },
  {
   "cell_type": "markdown",
   "id": "2ad46af6",
   "metadata": {},
   "source": [
    "## Random Forest Model"
   ]
  },
  {
   "cell_type": "code",
   "execution_count": 37,
   "id": "3b6e28e2",
   "metadata": {},
   "outputs": [
    {
     "data": {
      "text/plain": [
       "BalancedRandomForestClassifier(random_state=1)"
      ]
     },
     "execution_count": 37,
     "metadata": {},
     "output_type": "execute_result"
    }
   ],
   "source": [
    "# Resample the training data with the BalancedRandomForestClassifier\n",
    "from imblearn.ensemble import BalancedRandomForestClassifier\n",
    "from sklearn.datasets import make_classification\n",
    "brf_class = BalancedRandomForestClassifier(n_estimators=100, random_state=1)\n",
    "brf_class.fit(X_train, y_train)"
   ]
  },
  {
   "cell_type": "code",
   "execution_count": 38,
   "id": "7c7206ff",
   "metadata": {},
   "outputs": [
    {
     "data": {
      "text/plain": [
       "0.9714770972536908"
      ]
     },
     "execution_count": 38,
     "metadata": {},
     "output_type": "execute_result"
    }
   ],
   "source": [
    "# Calculated the balanced accuracy score\n",
    "y_pred = brf_class.predict(X_test)\n",
    "BA_Score.append(balanced_accuracy_score(y_test, y_pred))\n",
    "balanced_accuracy_score(y_test, y_pred)"
   ]
  },
  {
   "cell_type": "code",
   "execution_count": 39,
   "id": "5305a610",
   "metadata": {},
   "outputs": [
    {
     "data": {
      "text/plain": [
       "array([[1037,   27],\n",
       "       [  33, 1009]], dtype=int64)"
      ]
     },
     "execution_count": 39,
     "metadata": {},
     "output_type": "execute_result"
    }
   ],
   "source": [
    "# Display the confusion matrix\n",
    "confusion_matrix(y_test, y_pred)"
   ]
  },
  {
   "cell_type": "code",
   "execution_count": 40,
   "id": "7622fab9",
   "metadata": {},
   "outputs": [],
   "source": [
    "# Add Random Forest confusion matrix to cm list\n",
    "cm_list.append(confusion_matrix(y_test, y_pred))"
   ]
  },
  {
   "cell_type": "code",
   "execution_count": 41,
   "id": "99e96171",
   "metadata": {},
   "outputs": [
    {
     "name": "stdout",
     "output_type": "stream",
     "text": [
      "                   pre       rec       spe        f1       geo       iba       sup\n",
      "\n",
      "          0       0.97      0.97      0.97      0.97      0.97      0.94      1064\n",
      "          1       0.97      0.97      0.97      0.97      0.97      0.94      1042\n",
      "\n",
      "avg / total       0.97      0.97      0.97      0.97      0.97      0.94      2106\n",
      "\n"
     ]
    }
   ],
   "source": [
    "# Print the imbalanced classification report\n",
    "print(classification_report_imbalanced(y_test, y_pred))"
   ]
  },
  {
   "cell_type": "code",
   "execution_count": 42,
   "id": "d2486cc8",
   "metadata": {},
   "outputs": [
    {
     "data": {
      "text/html": [
       "<div>\n",
       "<style scoped>\n",
       "    .dataframe tbody tr th:only-of-type {\n",
       "        vertical-align: middle;\n",
       "    }\n",
       "\n",
       "    .dataframe tbody tr th {\n",
       "        vertical-align: top;\n",
       "    }\n",
       "\n",
       "    .dataframe thead th {\n",
       "        text-align: right;\n",
       "    }\n",
       "</style>\n",
       "<table border=\"1\" class=\"dataframe\">\n",
       "  <thead>\n",
       "    <tr style=\"text-align: right;\">\n",
       "      <th></th>\n",
       "      <th>Feature Importance</th>\n",
       "      <th>Feature</th>\n",
       "    </tr>\n",
       "  </thead>\n",
       "  <tbody>\n",
       "    <tr>\n",
       "      <th>0</th>\n",
       "      <td>1.671792e-01</td>\n",
       "      <td>runtime</td>\n",
       "    </tr>\n",
       "    <tr>\n",
       "      <th>1</th>\n",
       "      <td>8.353139e-02</td>\n",
       "      <td>category_MUSIC</td>\n",
       "    </tr>\n",
       "    <tr>\n",
       "      <th>2</th>\n",
       "      <td>7.305012e-02</td>\n",
       "      <td>category_WRITING</td>\n",
       "    </tr>\n",
       "    <tr>\n",
       "      <th>3</th>\n",
       "      <td>4.311900e-02</td>\n",
       "      <td>category_FILM EDITING</td>\n",
       "    </tr>\n",
       "    <tr>\n",
       "      <th>4</th>\n",
       "      <td>4.102933e-02</td>\n",
       "      <td>category_BEST PICTURE</td>\n",
       "    </tr>\n",
       "    <tr>\n",
       "      <th>...</th>\n",
       "      <td>...</td>\n",
       "      <td>...</td>\n",
       "    </tr>\n",
       "    <tr>\n",
       "      <th>59</th>\n",
       "      <td>3.072740e-04</td>\n",
       "      <td>category_OUTSTANDING PICTURE</td>\n",
       "    </tr>\n",
       "    <tr>\n",
       "      <th>60</th>\n",
       "      <td>2.587651e-04</td>\n",
       "      <td>category_WRITING</td>\n",
       "    </tr>\n",
       "    <tr>\n",
       "      <th>61</th>\n",
       "      <td>1.247866e-04</td>\n",
       "      <td>genres_Family</td>\n",
       "    </tr>\n",
       "    <tr>\n",
       "      <th>62</th>\n",
       "      <td>7.703651e-05</td>\n",
       "      <td>genres_Foreign</td>\n",
       "    </tr>\n",
       "    <tr>\n",
       "      <th>63</th>\n",
       "      <td>3.528533e-08</td>\n",
       "      <td>genres_TV</td>\n",
       "    </tr>\n",
       "  </tbody>\n",
       "</table>\n",
       "<p>64 rows × 2 columns</p>\n",
       "</div>"
      ],
      "text/plain": [
       "    Feature Importance                       Feature\n",
       "0         1.671792e-01                       runtime\n",
       "1         8.353139e-02               category_MUSIC \n",
       "2         7.305012e-02             category_WRITING \n",
       "3         4.311900e-02         category_FILM EDITING\n",
       "4         4.102933e-02         category_BEST PICTURE\n",
       "..                 ...                           ...\n",
       "59        3.072740e-04  category_OUTSTANDING PICTURE\n",
       "60        2.587651e-04              category_WRITING\n",
       "61        1.247866e-04                 genres_Family\n",
       "62        7.703651e-05                genres_Foreign\n",
       "63        3.528533e-08                     genres_TV\n",
       "\n",
       "[64 rows x 2 columns]"
      ]
     },
     "execution_count": 42,
     "metadata": {},
     "output_type": "execute_result"
    }
   ],
   "source": [
    "# List the features sorted in descending order by feature importance\n",
    "features_df = pd.DataFrame(sorted(zip(brf_class.feature_importances_, X_test.columns), reverse=True))\n",
    "\n",
    "features_df.rename(columns={0: \"Feature Importance\", 1: \"Feature\"},inplace=True)\n",
    "\n",
    "features_df"
   ]
  },
  {
   "cell_type": "code",
   "execution_count": 43,
   "id": "3e2277e6",
   "metadata": {},
   "outputs": [
    {
     "data": {
      "text/html": [
       "<div>\n",
       "<style scoped>\n",
       "    .dataframe tbody tr th:only-of-type {\n",
       "        vertical-align: middle;\n",
       "    }\n",
       "\n",
       "    .dataframe tbody tr th {\n",
       "        vertical-align: top;\n",
       "    }\n",
       "\n",
       "    .dataframe thead th {\n",
       "        text-align: right;\n",
       "    }\n",
       "</style>\n",
       "<table border=\"1\" class=\"dataframe\">\n",
       "  <thead>\n",
       "    <tr style=\"text-align: right;\">\n",
       "      <th></th>\n",
       "      <th>pre</th>\n",
       "      <th>rec</th>\n",
       "      <th>spe</th>\n",
       "      <th>f1</th>\n",
       "      <th>geo</th>\n",
       "      <th>iba</th>\n",
       "      <th>sup</th>\n",
       "    </tr>\n",
       "  </thead>\n",
       "  <tbody>\n",
       "    <tr>\n",
       "      <th>Naive Random Oversampling</th>\n",
       "      <td>0.97</td>\n",
       "      <td>0.96</td>\n",
       "      <td>0.97</td>\n",
       "      <td>0.97</td>\n",
       "      <td>0.97</td>\n",
       "      <td>0.94</td>\n",
       "      <td>1042.0</td>\n",
       "    </tr>\n",
       "    <tr>\n",
       "      <th>Cluster Centroids Undersampling</th>\n",
       "      <td>0.97</td>\n",
       "      <td>0.97</td>\n",
       "      <td>0.97</td>\n",
       "      <td>0.97</td>\n",
       "      <td>0.97</td>\n",
       "      <td>0.94</td>\n",
       "      <td>1042.0</td>\n",
       "    </tr>\n",
       "    <tr>\n",
       "      <th>SMOTE</th>\n",
       "      <td>0.97</td>\n",
       "      <td>0.95</td>\n",
       "      <td>0.97</td>\n",
       "      <td>0.96</td>\n",
       "      <td>0.96</td>\n",
       "      <td>0.93</td>\n",
       "      <td>1042.0</td>\n",
       "    </tr>\n",
       "    <tr>\n",
       "      <th>SMOTEENN</th>\n",
       "      <td>0.97</td>\n",
       "      <td>0.78</td>\n",
       "      <td>0.97</td>\n",
       "      <td>0.86</td>\n",
       "      <td>0.87</td>\n",
       "      <td>0.74</td>\n",
       "      <td>1042.0</td>\n",
       "    </tr>\n",
       "    <tr>\n",
       "      <th>Random Forest</th>\n",
       "      <td>0.97</td>\n",
       "      <td>0.97</td>\n",
       "      <td>0.97</td>\n",
       "      <td>0.97</td>\n",
       "      <td>0.97</td>\n",
       "      <td>0.94</td>\n",
       "      <td>1042.0</td>\n",
       "    </tr>\n",
       "  </tbody>\n",
       "</table>\n",
       "</div>"
      ],
      "text/plain": [
       "                                  pre   rec   spe    f1   geo   iba     sup\n",
       "Naive Random Oversampling        0.97  0.96  0.97  0.97  0.97  0.94  1042.0\n",
       "Cluster Centroids Undersampling  0.97  0.97  0.97  0.97  0.97  0.94  1042.0\n",
       "SMOTE                            0.97  0.95  0.97  0.96  0.96  0.93  1042.0\n",
       "SMOTEENN                         0.97  0.78  0.97  0.86  0.87  0.74  1042.0\n",
       "Random Forest                    0.97  0.97  0.97  0.97  0.97  0.94  1042.0"
      ]
     },
     "execution_count": 43,
     "metadata": {},
     "output_type": "execute_result"
    }
   ],
   "source": [
    "#Add classification report to summary table \n",
    "name = 'Random Forest'\n",
    "class_dict= classification_report_imbalanced(y_test, y_pred,output_dict=True)\n",
    "class_df= pd.DataFrame(class_dict).round(decimals=2)\n",
    "summary_df = summary_df.append(class_df[1])\n",
    "summary_df.rename(index={1:name},inplace=True)\n",
    "summary_df"
   ]
  },
  {
   "cell_type": "markdown",
   "id": "3ec7578f",
   "metadata": {},
   "source": [
    "## Random Forest using Easy Ensemble Classifier"
   ]
  },
  {
   "cell_type": "code",
   "execution_count": 44,
   "id": "5b4a0624",
   "metadata": {},
   "outputs": [],
   "source": [
    "# Train the EasyEnsembleClassifier\n",
    "from imblearn.ensemble import EasyEnsembleClassifier\n",
    "brf_class = EasyEnsembleClassifier(n_estimators=100, random_state=1).fit(X_train,y_train)"
   ]
  },
  {
   "cell_type": "code",
   "execution_count": 45,
   "id": "1b179d3b",
   "metadata": {},
   "outputs": [
    {
     "data": {
      "text/plain": [
       "0.9777349443666749"
      ]
     },
     "execution_count": 45,
     "metadata": {},
     "output_type": "execute_result"
    }
   ],
   "source": [
    "y_pred = brf_class.predict(X_test)\n",
    "balanced_accuracy_score(y_test, y_pred)"
   ]
  },
  {
   "cell_type": "code",
   "execution_count": 46,
   "id": "70a79a6f",
   "metadata": {},
   "outputs": [
    {
     "data": {
      "text/plain": [
       "0.9777349443666749"
      ]
     },
     "execution_count": 46,
     "metadata": {},
     "output_type": "execute_result"
    }
   ],
   "source": [
    "# Calculated the balanced accuracy score\n",
    "y_pred = brf_class.predict(X_test)\n",
    "BA_Score.append(balanced_accuracy_score(y_test, y_pred))\n",
    "balanced_accuracy_score(y_test, y_pred)"
   ]
  },
  {
   "cell_type": "code",
   "execution_count": 47,
   "id": "758164f8",
   "metadata": {},
   "outputs": [
    {
     "data": {
      "text/plain": [
       "array([[1035,   29],\n",
       "       [  18, 1024]], dtype=int64)"
      ]
     },
     "execution_count": 47,
     "metadata": {},
     "output_type": "execute_result"
    }
   ],
   "source": [
    "# Display the confusion matrix\n",
    "confusion_matrix(y_test, y_pred)"
   ]
  },
  {
   "cell_type": "code",
   "execution_count": 48,
   "id": "5242fc6f",
   "metadata": {},
   "outputs": [],
   "source": [
    "# Add RF EE Classifier confusion matrix to CM list\n",
    "cm_list.append(confusion_matrix(y_test, y_pred))"
   ]
  },
  {
   "cell_type": "code",
   "execution_count": 49,
   "id": "5b33615a",
   "metadata": {},
   "outputs": [
    {
     "name": "stdout",
     "output_type": "stream",
     "text": [
      "                   pre       rec       spe        f1       geo       iba       sup\n",
      "\n",
      "          0       0.98      0.97      0.98      0.98      0.98      0.95      1064\n",
      "          1       0.97      0.98      0.97      0.98      0.98      0.96      1042\n",
      "\n",
      "avg / total       0.98      0.98      0.98      0.98      0.98      0.96      2106\n",
      "\n"
     ]
    }
   ],
   "source": [
    "# Print the imbalanced classification report\n",
    "print(classification_report_imbalanced(y_test, y_pred))"
   ]
  },
  {
   "cell_type": "code",
   "execution_count": 50,
   "id": "7d8f1ecf",
   "metadata": {},
   "outputs": [
    {
     "data": {
      "text/html": [
       "<div>\n",
       "<style scoped>\n",
       "    .dataframe tbody tr th:only-of-type {\n",
       "        vertical-align: middle;\n",
       "    }\n",
       "\n",
       "    .dataframe tbody tr th {\n",
       "        vertical-align: top;\n",
       "    }\n",
       "\n",
       "    .dataframe thead th {\n",
       "        text-align: right;\n",
       "    }\n",
       "</style>\n",
       "<table border=\"1\" class=\"dataframe\">\n",
       "  <thead>\n",
       "    <tr style=\"text-align: right;\">\n",
       "      <th></th>\n",
       "      <th>pre</th>\n",
       "      <th>rec</th>\n",
       "      <th>spe</th>\n",
       "      <th>f1</th>\n",
       "      <th>geo</th>\n",
       "      <th>iba</th>\n",
       "      <th>sup</th>\n",
       "    </tr>\n",
       "  </thead>\n",
       "  <tbody>\n",
       "    <tr>\n",
       "      <th>Naive Random Oversampling</th>\n",
       "      <td>0.97</td>\n",
       "      <td>0.96</td>\n",
       "      <td>0.97</td>\n",
       "      <td>0.97</td>\n",
       "      <td>0.97</td>\n",
       "      <td>0.94</td>\n",
       "      <td>1042.0</td>\n",
       "    </tr>\n",
       "    <tr>\n",
       "      <th>Cluster Centroids Undersampling</th>\n",
       "      <td>0.97</td>\n",
       "      <td>0.97</td>\n",
       "      <td>0.97</td>\n",
       "      <td>0.97</td>\n",
       "      <td>0.97</td>\n",
       "      <td>0.94</td>\n",
       "      <td>1042.0</td>\n",
       "    </tr>\n",
       "    <tr>\n",
       "      <th>SMOTE</th>\n",
       "      <td>0.97</td>\n",
       "      <td>0.95</td>\n",
       "      <td>0.97</td>\n",
       "      <td>0.96</td>\n",
       "      <td>0.96</td>\n",
       "      <td>0.93</td>\n",
       "      <td>1042.0</td>\n",
       "    </tr>\n",
       "    <tr>\n",
       "      <th>SMOTEENN</th>\n",
       "      <td>0.97</td>\n",
       "      <td>0.78</td>\n",
       "      <td>0.97</td>\n",
       "      <td>0.86</td>\n",
       "      <td>0.87</td>\n",
       "      <td>0.74</td>\n",
       "      <td>1042.0</td>\n",
       "    </tr>\n",
       "    <tr>\n",
       "      <th>Random Forest</th>\n",
       "      <td>0.97</td>\n",
       "      <td>0.97</td>\n",
       "      <td>0.97</td>\n",
       "      <td>0.97</td>\n",
       "      <td>0.97</td>\n",
       "      <td>0.94</td>\n",
       "      <td>1042.0</td>\n",
       "    </tr>\n",
       "    <tr>\n",
       "      <th>Random Forest w/ Easy Ensemble Classifier</th>\n",
       "      <td>0.97</td>\n",
       "      <td>0.98</td>\n",
       "      <td>0.97</td>\n",
       "      <td>0.98</td>\n",
       "      <td>0.98</td>\n",
       "      <td>0.96</td>\n",
       "      <td>1042.0</td>\n",
       "    </tr>\n",
       "  </tbody>\n",
       "</table>\n",
       "</div>"
      ],
      "text/plain": [
       "                                             pre   rec   spe    f1   geo  \\\n",
       "Naive Random Oversampling                   0.97  0.96  0.97  0.97  0.97   \n",
       "Cluster Centroids Undersampling             0.97  0.97  0.97  0.97  0.97   \n",
       "SMOTE                                       0.97  0.95  0.97  0.96  0.96   \n",
       "SMOTEENN                                    0.97  0.78  0.97  0.86  0.87   \n",
       "Random Forest                               0.97  0.97  0.97  0.97  0.97   \n",
       "Random Forest w/ Easy Ensemble Classifier   0.97  0.98  0.97  0.98  0.98   \n",
       "\n",
       "                                             iba     sup  \n",
       "Naive Random Oversampling                   0.94  1042.0  \n",
       "Cluster Centroids Undersampling             0.94  1042.0  \n",
       "SMOTE                                       0.93  1042.0  \n",
       "SMOTEENN                                    0.74  1042.0  \n",
       "Random Forest                               0.94  1042.0  \n",
       "Random Forest w/ Easy Ensemble Classifier   0.96  1042.0  "
      ]
     },
     "execution_count": 50,
     "metadata": {},
     "output_type": "execute_result"
    }
   ],
   "source": [
    "#Add classification report to summary table \n",
    "name = 'Random Forest w/ Easy Ensemble Classifier '\n",
    "class_dict= classification_report_imbalanced(y_test, y_pred,output_dict=True)\n",
    "class_df= pd.DataFrame(class_dict).round(decimals=2)\n",
    "summary_df = summary_df.append(class_df[1])\n",
    "summary_df.rename(index={1:name},inplace=True)\n",
    "summary_df"
   ]
  },
  {
   "cell_type": "markdown",
   "id": "c3b5229e",
   "metadata": {},
   "source": [
    "## Summarized Table"
   ]
  },
  {
   "cell_type": "code",
   "execution_count": 51,
   "id": "7c728439",
   "metadata": {},
   "outputs": [
    {
     "data": {
      "text/html": [
       "<div>\n",
       "<style scoped>\n",
       "    .dataframe tbody tr th:only-of-type {\n",
       "        vertical-align: middle;\n",
       "    }\n",
       "\n",
       "    .dataframe tbody tr th {\n",
       "        vertical-align: top;\n",
       "    }\n",
       "\n",
       "    .dataframe thead th {\n",
       "        text-align: right;\n",
       "    }\n",
       "</style>\n",
       "<table border=\"1\" class=\"dataframe\">\n",
       "  <thead>\n",
       "    <tr style=\"text-align: right;\">\n",
       "      <th></th>\n",
       "      <th>pre</th>\n",
       "      <th>rec</th>\n",
       "      <th>spe</th>\n",
       "      <th>f1</th>\n",
       "      <th>geo</th>\n",
       "      <th>iba</th>\n",
       "      <th>sup</th>\n",
       "      <th>BA_Score</th>\n",
       "      <th>Confusion Matrix</th>\n",
       "    </tr>\n",
       "  </thead>\n",
       "  <tbody>\n",
       "    <tr>\n",
       "      <th>Naive Random Oversampling</th>\n",
       "      <td>0.97</td>\n",
       "      <td>0.96</td>\n",
       "      <td>0.97</td>\n",
       "      <td>0.97</td>\n",
       "      <td>0.97</td>\n",
       "      <td>0.94</td>\n",
       "      <td>1042.0</td>\n",
       "      <td>0.97</td>\n",
       "      <td>[[1036, 28], [39, 1003]]</td>\n",
       "    </tr>\n",
       "    <tr>\n",
       "      <th>Cluster Centroids Undersampling</th>\n",
       "      <td>0.97</td>\n",
       "      <td>0.97</td>\n",
       "      <td>0.97</td>\n",
       "      <td>0.97</td>\n",
       "      <td>0.97</td>\n",
       "      <td>0.94</td>\n",
       "      <td>1042.0</td>\n",
       "      <td>0.97</td>\n",
       "      <td>[[1035, 29], [34, 1008]]</td>\n",
       "    </tr>\n",
       "    <tr>\n",
       "      <th>SMOTE</th>\n",
       "      <td>0.97</td>\n",
       "      <td>0.95</td>\n",
       "      <td>0.97</td>\n",
       "      <td>0.96</td>\n",
       "      <td>0.96</td>\n",
       "      <td>0.93</td>\n",
       "      <td>1042.0</td>\n",
       "      <td>0.96</td>\n",
       "      <td>[[1036, 28], [49, 993]]</td>\n",
       "    </tr>\n",
       "    <tr>\n",
       "      <th>SMOTEENN</th>\n",
       "      <td>0.97</td>\n",
       "      <td>0.78</td>\n",
       "      <td>0.97</td>\n",
       "      <td>0.86</td>\n",
       "      <td>0.87</td>\n",
       "      <td>0.74</td>\n",
       "      <td>1042.0</td>\n",
       "      <td>0.88</td>\n",
       "      <td>[[1037, 27], [233, 809]]</td>\n",
       "    </tr>\n",
       "    <tr>\n",
       "      <th>Random Forest</th>\n",
       "      <td>0.97</td>\n",
       "      <td>0.97</td>\n",
       "      <td>0.97</td>\n",
       "      <td>0.97</td>\n",
       "      <td>0.97</td>\n",
       "      <td>0.94</td>\n",
       "      <td>1042.0</td>\n",
       "      <td>0.97</td>\n",
       "      <td>[[1037, 27], [33, 1009]]</td>\n",
       "    </tr>\n",
       "    <tr>\n",
       "      <th>Random Forest w/ Easy Ensemble Classifier</th>\n",
       "      <td>0.97</td>\n",
       "      <td>0.98</td>\n",
       "      <td>0.97</td>\n",
       "      <td>0.98</td>\n",
       "      <td>0.98</td>\n",
       "      <td>0.96</td>\n",
       "      <td>1042.0</td>\n",
       "      <td>0.98</td>\n",
       "      <td>[[1035, 29], [18, 1024]]</td>\n",
       "    </tr>\n",
       "  </tbody>\n",
       "</table>\n",
       "</div>"
      ],
      "text/plain": [
       "                                             pre   rec   spe    f1   geo  \\\n",
       "Naive Random Oversampling                   0.97  0.96  0.97  0.97  0.97   \n",
       "Cluster Centroids Undersampling             0.97  0.97  0.97  0.97  0.97   \n",
       "SMOTE                                       0.97  0.95  0.97  0.96  0.96   \n",
       "SMOTEENN                                    0.97  0.78  0.97  0.86  0.87   \n",
       "Random Forest                               0.97  0.97  0.97  0.97  0.97   \n",
       "Random Forest w/ Easy Ensemble Classifier   0.97  0.98  0.97  0.98  0.98   \n",
       "\n",
       "                                             iba     sup  BA_Score  \\\n",
       "Naive Random Oversampling                   0.94  1042.0      0.97   \n",
       "Cluster Centroids Undersampling             0.94  1042.0      0.97   \n",
       "SMOTE                                       0.93  1042.0      0.96   \n",
       "SMOTEENN                                    0.74  1042.0      0.88   \n",
       "Random Forest                               0.94  1042.0      0.97   \n",
       "Random Forest w/ Easy Ensemble Classifier   0.96  1042.0      0.98   \n",
       "\n",
       "                                                    Confusion Matrix  \n",
       "Naive Random Oversampling                   [[1036, 28], [39, 1003]]  \n",
       "Cluster Centroids Undersampling             [[1035, 29], [34, 1008]]  \n",
       "SMOTE                                        [[1036, 28], [49, 993]]  \n",
       "SMOTEENN                                    [[1037, 27], [233, 809]]  \n",
       "Random Forest                               [[1037, 27], [33, 1009]]  \n",
       "Random Forest w/ Easy Ensemble Classifier   [[1035, 29], [18, 1024]]  "
      ]
     },
     "execution_count": 51,
     "metadata": {},
     "output_type": "execute_result"
    }
   ],
   "source": [
    "#Add BAS and CM lists to the summary Dataframe\n",
    "summary_df[\"BA_Score\"] = BA_Score\n",
    "summary_df[\"BA_Score\"] = summary_df[\"BA_Score\"].round(decimals=2)\n",
    "summary_df[\"Confusion Matrix\"] = cm_list\n",
    "\n",
    "summary_df"
   ]
  },
  {
   "cell_type": "code",
   "execution_count": 53,
   "id": "635f372f",
   "metadata": {},
   "outputs": [
    {
     "data": {
      "text/html": [
       "<div>\n",
       "<style scoped>\n",
       "    .dataframe tbody tr th:only-of-type {\n",
       "        vertical-align: middle;\n",
       "    }\n",
       "\n",
       "    .dataframe tbody tr th {\n",
       "        vertical-align: top;\n",
       "    }\n",
       "\n",
       "    .dataframe thead th {\n",
       "        text-align: right;\n",
       "    }\n",
       "</style>\n",
       "<table border=\"1\" class=\"dataframe\">\n",
       "  <thead>\n",
       "    <tr style=\"text-align: right;\">\n",
       "      <th></th>\n",
       "      <th>BA_Score</th>\n",
       "      <th>Confusion Matrix</th>\n",
       "      <th>pre</th>\n",
       "      <th>rec</th>\n",
       "      <th>spe</th>\n",
       "      <th>f1</th>\n",
       "    </tr>\n",
       "  </thead>\n",
       "  <tbody>\n",
       "    <tr>\n",
       "      <th>Naive Random Oversampling</th>\n",
       "      <td>0.97</td>\n",
       "      <td>[[1036, 28], [39, 1003]]</td>\n",
       "      <td>0.97</td>\n",
       "      <td>0.96</td>\n",
       "      <td>0.97</td>\n",
       "      <td>0.97</td>\n",
       "    </tr>\n",
       "    <tr>\n",
       "      <th>Cluster Centroids Undersampling</th>\n",
       "      <td>0.97</td>\n",
       "      <td>[[1035, 29], [34, 1008]]</td>\n",
       "      <td>0.97</td>\n",
       "      <td>0.97</td>\n",
       "      <td>0.97</td>\n",
       "      <td>0.97</td>\n",
       "    </tr>\n",
       "    <tr>\n",
       "      <th>SMOTE</th>\n",
       "      <td>0.96</td>\n",
       "      <td>[[1036, 28], [49, 993]]</td>\n",
       "      <td>0.97</td>\n",
       "      <td>0.95</td>\n",
       "      <td>0.97</td>\n",
       "      <td>0.96</td>\n",
       "    </tr>\n",
       "    <tr>\n",
       "      <th>SMOTEENN</th>\n",
       "      <td>0.88</td>\n",
       "      <td>[[1037, 27], [233, 809]]</td>\n",
       "      <td>0.97</td>\n",
       "      <td>0.78</td>\n",
       "      <td>0.97</td>\n",
       "      <td>0.86</td>\n",
       "    </tr>\n",
       "    <tr>\n",
       "      <th>Random Forest</th>\n",
       "      <td>0.97</td>\n",
       "      <td>[[1037, 27], [33, 1009]]</td>\n",
       "      <td>0.97</td>\n",
       "      <td>0.97</td>\n",
       "      <td>0.97</td>\n",
       "      <td>0.97</td>\n",
       "    </tr>\n",
       "    <tr>\n",
       "      <th>Random Forest w/ Easy Ensemble Classifier</th>\n",
       "      <td>0.98</td>\n",
       "      <td>[[1035, 29], [18, 1024]]</td>\n",
       "      <td>0.97</td>\n",
       "      <td>0.98</td>\n",
       "      <td>0.97</td>\n",
       "      <td>0.98</td>\n",
       "    </tr>\n",
       "  </tbody>\n",
       "</table>\n",
       "</div>"
      ],
      "text/plain": [
       "                                            BA_Score  \\\n",
       "Naive Random Oversampling                       0.97   \n",
       "Cluster Centroids Undersampling                 0.97   \n",
       "SMOTE                                           0.96   \n",
       "SMOTEENN                                        0.88   \n",
       "Random Forest                                   0.97   \n",
       "Random Forest w/ Easy Ensemble Classifier       0.98   \n",
       "\n",
       "                                                    Confusion Matrix   pre  \\\n",
       "Naive Random Oversampling                   [[1036, 28], [39, 1003]]  0.97   \n",
       "Cluster Centroids Undersampling             [[1035, 29], [34, 1008]]  0.97   \n",
       "SMOTE                                        [[1036, 28], [49, 993]]  0.97   \n",
       "SMOTEENN                                    [[1037, 27], [233, 809]]  0.97   \n",
       "Random Forest                               [[1037, 27], [33, 1009]]  0.97   \n",
       "Random Forest w/ Easy Ensemble Classifier   [[1035, 29], [18, 1024]]  0.97   \n",
       "\n",
       "                                             rec   spe    f1  \n",
       "Naive Random Oversampling                   0.96  0.97  0.97  \n",
       "Cluster Centroids Undersampling             0.97  0.97  0.97  \n",
       "SMOTE                                       0.95  0.97  0.96  \n",
       "SMOTEENN                                    0.78  0.97  0.86  \n",
       "Random Forest                               0.97  0.97  0.97  \n",
       "Random Forest w/ Easy Ensemble Classifier   0.98  0.97  0.98  "
      ]
     },
     "execution_count": 53,
     "metadata": {},
     "output_type": "execute_result"
    }
   ],
   "source": [
    "#drop unneccessary columns\n",
    "summary_df.drop(columns=[\"geo\",\"iba\",\"sup\"],inplace=True)\n",
    "\n",
    "#reorder the columns of the Summary df \n",
    "cols = summary_df.columns.tolist()\n",
    "cols = cols[-2:] + cols[:-2]\n",
    "summary_df = summary_df[cols]\n",
    "\n",
    "summary_df"
   ]
  },
  {
   "cell_type": "code",
   "execution_count": 54,
   "id": "8302719c",
   "metadata": {},
   "outputs": [],
   "source": [
    "#export csvs\n",
    "summary_df.to_csv(\"summary.csv\")\n",
    "features_df.to_csv(\"features.csv\")"
   ]
  },
  {
   "cell_type": "code",
   "execution_count": null,
   "id": "f455b2d7",
   "metadata": {},
   "outputs": [],
   "source": []
  }
 ],
 "metadata": {
  "kernelspec": {
   "display_name": "mlenv",
   "language": "python",
   "name": "mlenv"
  },
  "language_info": {
   "codemirror_mode": {
    "name": "ipython",
    "version": 3
   },
   "file_extension": ".py",
   "mimetype": "text/x-python",
   "name": "python",
   "nbconvert_exporter": "python",
   "pygments_lexer": "ipython3",
   "version": "3.7.10"
  }
 },
 "nbformat": 4,
 "nbformat_minor": 5
}
